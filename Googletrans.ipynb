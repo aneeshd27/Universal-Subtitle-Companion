{
  "nbformat": 4,
  "nbformat_minor": 0,
  "metadata": {
    "colab": {
      "provenance": [],
      "authorship_tag": "ABX9TyPkz02lE5DPgYf3zWOlf14a",
      "include_colab_link": true
    },
    "kernelspec": {
      "name": "python3",
      "display_name": "Python 3"
    },
    "language_info": {
      "name": "python"
    }
  },
  "cells": [
    {
      "cell_type": "markdown",
      "metadata": {
        "id": "view-in-github",
        "colab_type": "text"
      },
      "source": [
        "<a href=\"https://colab.research.google.com/github/aneeshd27/Universal-Subtitle-Companion/blob/main/Googletrans.ipynb\" target=\"_parent\"><img src=\"https://colab.research.google.com/assets/colab-badge.svg\" alt=\"Open In Colab\"/></a>"
      ]
    },
    {
      "cell_type": "code",
      "execution_count": null,
      "metadata": {
        "id": "-M2Eh0WavSSX"
      },
      "outputs": [],
      "source": [
        "!pip uninstall googletrans"
      ]
    },
    {
      "cell_type": "code",
      "source": [
        "!pip install googletrans==3.1.0a0"
      ],
      "metadata": {
        "id": "B3anVsUCyRin"
      },
      "execution_count": null,
      "outputs": []
    },
    {
      "cell_type": "code",
      "source": [
        "import googletrans\n",
        "from googletrans import *"
      ],
      "metadata": {
        "id": "pU77s7Trv7VD"
      },
      "execution_count": 1,
      "outputs": []
    },
    {
      "cell_type": "code",
      "source": [
        "translator=googletrans.Translator()"
      ],
      "metadata": {
        "id": "pfKQ2OWwv-_L"
      },
      "execution_count": 2,
      "outputs": []
    },
    {
      "cell_type": "code",
      "source": [
        "text=\"Hello how are you\""
      ],
      "metadata": {
        "id": "M67l-zbRwGmU"
      },
      "execution_count": 3,
      "outputs": []
    },
    {
      "cell_type": "code",
      "source": [
        "from googletrans import Translator\n",
        "\n",
        "text = \"Hello, how are you?\"\n",
        "translator = Translator()\n",
        "translated = translator.translate(text, src='en', dest='mr')\n",
        "\n",
        "print(translated.text)"
      ],
      "metadata": {
        "colab": {
          "base_uri": "https://localhost:8080/"
        },
        "id": "6DqW2QJ5xBqu",
        "outputId": "68760b22-5341-4e77-8f75-2c83dbdc13c9"
      },
      "execution_count": 8,
      "outputs": [
        {
          "output_type": "stream",
          "name": "stdout",
          "text": [
            "नमस्कार, कसे आहात?\n"
          ]
        }
      ]
    },
    {
      "cell_type": "code",
      "source": [
        "print(translator.detect(\"नमस्कार, कसे आहात?\"))"
      ],
      "metadata": {
        "colab": {
          "base_uri": "https://localhost:8080/"
        },
        "id": "gZWsYNjiyzgt",
        "outputId": "12acdfef-c4c3-45a1-87a1-c8e7b3224b8b"
      },
      "execution_count": 9,
      "outputs": [
        {
          "output_type": "stream",
          "name": "stdout",
          "text": [
            "Detected(lang=mr, confidence=1)\n"
          ]
        }
      ]
    },
    {
      "cell_type": "code",
      "source": [
        "!pip install -q pyttsx3"
      ],
      "metadata": {
        "id": "QbB1PbT00Xra"
      },
      "execution_count": 11,
      "outputs": []
    },
    {
      "cell_type": "code",
      "source": [
        "input_text = input('Input Your Translation Text : ')\n",
        "input_language = input('Input Your Translation Language : ')"
      ],
      "metadata": {
        "colab": {
          "base_uri": "https://localhost:8080/"
        },
        "id": "pIACk7Jn01Z-",
        "outputId": "4fbc41e7-c1e8-4d8b-ec01-24cb61c6e1b0"
      },
      "execution_count": 14,
      "outputs": [
        {
          "name": "stdout",
          "output_type": "stream",
          "text": [
            "Input Your Translation Text : Hi there how are you\n",
            "Input Your Translation Language : afrikaans\n"
          ]
        }
      ]
    },
    {
      "cell_type": "code",
      "source": [
        "translation = translator.translate(input_text, dest=input_language)\n",
        "print(translation.text)"
      ],
      "metadata": {
        "colab": {
          "base_uri": "https://localhost:8080/"
        },
        "id": "fr2XHXNj1AC7",
        "outputId": "dbba6e0e-294a-4462-a2f1-fbb2bb4e4659"
      },
      "execution_count": 15,
      "outputs": [
        {
          "output_type": "stream",
          "name": "stdout",
          "text": [
            "Hello daar hoe gan dit met jou\n"
          ]
        }
      ]
    },
    {
      "cell_type": "code",
      "source": [
        "!pip uninstall -q pyttsx3\n"
      ],
      "metadata": {
        "colab": {
          "base_uri": "https://localhost:8080/"
        },
        "id": "Nav4H5Jw1Qi8",
        "outputId": "fde2334a-71f4-4e30-804e-70debaad4345"
      },
      "execution_count": 23,
      "outputs": [
        {
          "output_type": "stream",
          "name": "stdout",
          "text": [
            "Proceed (Y/n)? Y\n"
          ]
        }
      ]
    },
    {
      "cell_type": "code",
      "source": [
        "!pip install -q pyttsx3"
      ],
      "metadata": {
        "id": "Ilp6Jb441bd1"
      },
      "execution_count": 24,
      "outputs": []
    },
    {
      "cell_type": "code",
      "source": [
        "!pip install -q espeakng"
      ],
      "metadata": {
        "id": "gGj1qqjp2TLF"
      },
      "execution_count": 28,
      "outputs": []
    }
  ]
}