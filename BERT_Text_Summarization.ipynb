{
  "nbformat": 4,
  "nbformat_minor": 0,
  "metadata": {
    "colab": {
      "provenance": [],
      "authorship_tag": "ABX9TyN657+smr7bEFdW/BQM+vd6",
      "include_colab_link": true
    },
    "kernelspec": {
      "name": "python3",
      "display_name": "Python 3"
    },
    "language_info": {
      "name": "python"
    }
  },
  "cells": [
    {
      "cell_type": "markdown",
      "metadata": {
        "id": "view-in-github",
        "colab_type": "text"
      },
      "source": [
        "<a href=\"https://colab.research.google.com/github/aneeshd27/Universal-Subtitle-Companion/blob/main/BERT_Text_Summarization.ipynb\" target=\"_parent\"><img src=\"https://colab.research.google.com/assets/colab-badge.svg\" alt=\"Open In Colab\"/></a>"
      ]
    },
    {
      "cell_type": "markdown",
      "source": [
        "#Installing Transformers from HuggingFace"
      ],
      "metadata": {
        "id": "OB3wC6eZmOzr"
      }
    },
    {
      "cell_type": "code",
      "execution_count": null,
      "metadata": {
        "id": "zUtklGu1mHGo"
      },
      "outputs": [],
      "source": [
        "!pip install -q transformers"
      ]
    },
    {
      "cell_type": "code",
      "source": [
        "from transformers import pipeline"
      ],
      "metadata": {
        "id": "EX1KWpR8m23Q"
      },
      "execution_count": 3,
      "outputs": []
    },
    {
      "cell_type": "code",
      "source": [
        "summarizer=pipeline('summarization',model=\"facebook/bart-large-cnn\")"
      ],
      "metadata": {
        "id": "-dckItjKnoIw"
      },
      "execution_count": null,
      "outputs": []
    },
    {
      "cell_type": "code",
      "source": [
        "article=\"\"\" ISRO on September 2 launched the country’s ambitious Solar mission, Aditya-L1 eyeing history again after its successful lunar expedition, Chandrayan-3 a few days ago. As the 23:40-hour countdown concluded, the 44.4m tall Polar Satellite Launch Vehicle (PSLV) soared majestically at the prefixed time of 11:50 a.m. from this spaceport, located on the Eastern coast about 135 k.m. from Chennai.\n",
        "\n",
        "According to ISRO, Aditya-L1 is the first space-based observatory to study the Sun. The spacecraft, after travelling about 1.5 million k.m. from the Earth over 125 days, is expected to be placed in a Halo orbit around the Lagrangian point L1 which is considered closest to the Sun.Among others, it will send pictures of the sun for scientific experiments. According to scientists, there are five Lagrangian points (or parking areas) between the Earth and the Sun where a small object tends to stay if put there. These points in space can be used by spacecraft to remain there with reduced fuel consumption.\n",
        "\n",
        "This PSLV-C57/Aditya-L1 mission can be counted as one of the longest missions involving ISRO’s workhorse launch vehicle. However, the longest of the PSLV missions is still the 2016 PSLV-C35 mission which was completed two hours, 15 minutes and 33 seconds after lift-off.\n",
        "\n",
        "Aditya-L1 will stay in earth-bound orbits for 16 days, during which it will undergo five manoeuvres to gain the necessary velocity for its journey.\"\"\"\n",
        "\n",
        "print(len(article))"
      ],
      "metadata": {
        "colab": {
          "base_uri": "https://localhost:8080/"
        },
        "id": "jEbY8cFtoMpa",
        "outputId": "8488f942-98a0-4ec1-c5af-2d9790f94090"
      },
      "execution_count": 10,
      "outputs": [
        {
          "output_type": "stream",
          "name": "stdout",
          "text": [
            "1422\n"
          ]
        }
      ]
    },
    {
      "cell_type": "code",
      "source": [
        "def generate(text):\n",
        "  output=summarizer(text,max_length=250,min_length=50)\n",
        "  return output[0][\"summary_text\"]"
      ],
      "metadata": {
        "id": "lDFa-iHAsJX4"
      },
      "execution_count": 32,
      "outputs": []
    },
    {
      "cell_type": "code",
      "source": [
        "summarizer(article,max_length=250,min_length=50)"
      ],
      "metadata": {
        "colab": {
          "base_uri": "https://localhost:8080/"
        },
        "id": "br0Bu8VQorVn",
        "outputId": "53fe9e42-2fdd-403b-e7eb-8c8e05768756"
      },
      "execution_count": 33,
      "outputs": [
        {
          "output_type": "execute_result",
          "data": {
            "text/plain": [
              "[{'summary_text': 'Aditya-L1 is the first space-based observatory to study the Sun. The spacecraft, after travelling about 1.5 million k.m. from the Earth over 125 days, is expected to be placed in a Halo orbit around the Lagrangian point L1.'}]"
            ]
          },
          "metadata": {},
          "execution_count": 33
        }
      ]
    },
    {
      "cell_type": "code",
      "source": [
        "!pip install -q gradio"
      ],
      "metadata": {
        "id": "XprgRX1TqgRv"
      },
      "execution_count": null,
      "outputs": []
    },
    {
      "cell_type": "code",
      "source": [
        "import gradio as gr\n",
        "app=gr.Interface(fn=generate,inputs=gr.Text(label=\"Input Text\",show_label=True,type=\"text\"),outputs=gr.Text(label=\"Summarized Text\",show_label=True,type=\"text\"),description=\"BERT Summarizer Using Facebook CNN Model\")\n",
        "app.launch(share=True)"
      ],
      "metadata": {
        "colab": {
          "base_uri": "https://localhost:8080/",
          "height": 610
        },
        "id": "RMXHMFFmq3wk",
        "outputId": "2cba7eb3-6437-420a-fa00-b5d4418c781e"
      },
      "execution_count": 34,
      "outputs": [
        {
          "output_type": "stream",
          "name": "stdout",
          "text": [
            "Colab notebook detected. To show errors in colab notebook, set debug=True in launch()\n",
            "Running on public URL: https://560869c219af6a36d5.gradio.live\n",
            "\n",
            "This share link expires in 72 hours. For free permanent hosting and GPU upgrades, run `gradio deploy` from Terminal to deploy to Spaces (https://huggingface.co/spaces)\n"
          ]
        },
        {
          "output_type": "display_data",
          "data": {
            "text/plain": [
              "<IPython.core.display.HTML object>"
            ],
            "text/html": [
              "<div><iframe src=\"https://560869c219af6a36d5.gradio.live\" width=\"100%\" height=\"500\" allow=\"autoplay; camera; microphone; clipboard-read; clipboard-write;\" frameborder=\"0\" allowfullscreen></iframe></div>"
            ]
          },
          "metadata": {}
        },
        {
          "output_type": "execute_result",
          "data": {
            "text/plain": []
          },
          "metadata": {},
          "execution_count": 34
        }
      ]
    },
    {
      "cell_type": "code",
      "source": [
        "gr.TextBox()"
      ],
      "metadata": {
        "id": "K1HtaqCb0SM5"
      },
      "execution_count": null,
      "outputs": []
    }
  ]
}