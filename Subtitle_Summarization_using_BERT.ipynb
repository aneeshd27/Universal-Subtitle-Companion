{
  "nbformat": 4,
  "nbformat_minor": 0,
  "metadata": {
    "colab": {
      "provenance": [],
      "authorship_tag": "ABX9TyNpY3Df4ERIeDeW4F74VMoS",
      "include_colab_link": true
    },
    "kernelspec": {
      "name": "python3",
      "display_name": "Python 3"
    },
    "language_info": {
      "name": "python"
    },
    "widgets": {
      "application/vnd.jupyter.widget-state+json": {
        "8df6dc9a4bb946bcbfb90120cbe47121": {
          "model_module": "@jupyter-widgets/controls",
          "model_name": "HBoxModel",
          "model_module_version": "1.5.0",
          "state": {
            "_dom_classes": [],
            "_model_module": "@jupyter-widgets/controls",
            "_model_module_version": "1.5.0",
            "_model_name": "HBoxModel",
            "_view_count": null,
            "_view_module": "@jupyter-widgets/controls",
            "_view_module_version": "1.5.0",
            "_view_name": "HBoxView",
            "box_style": "",
            "children": [
              "IPY_MODEL_213beefe85404a3c84b4716b8e60dc9c",
              "IPY_MODEL_d5af61db0ae74005a4b2b1166ef37f7f",
              "IPY_MODEL_6d4a3db56c7f48c7ba77bbe2ab1a3dfd"
            ],
            "layout": "IPY_MODEL_5cc4618bc49e4d429157fb3ec9971fa2"
          }
        },
        "213beefe85404a3c84b4716b8e60dc9c": {
          "model_module": "@jupyter-widgets/controls",
          "model_name": "HTMLModel",
          "model_module_version": "1.5.0",
          "state": {
            "_dom_classes": [],
            "_model_module": "@jupyter-widgets/controls",
            "_model_module_version": "1.5.0",
            "_model_name": "HTMLModel",
            "_view_count": null,
            "_view_module": "@jupyter-widgets/controls",
            "_view_module_version": "1.5.0",
            "_view_name": "HTMLView",
            "description": "",
            "description_tooltip": null,
            "layout": "IPY_MODEL_7bc9c42469344703a408d39e889f7931",
            "placeholder": "​",
            "style": "IPY_MODEL_2068e105cde34f738101b56f043cf17d",
            "value": "Downloading (…)lve/main/config.json: 100%"
          }
        },
        "d5af61db0ae74005a4b2b1166ef37f7f": {
          "model_module": "@jupyter-widgets/controls",
          "model_name": "FloatProgressModel",
          "model_module_version": "1.5.0",
          "state": {
            "_dom_classes": [],
            "_model_module": "@jupyter-widgets/controls",
            "_model_module_version": "1.5.0",
            "_model_name": "FloatProgressModel",
            "_view_count": null,
            "_view_module": "@jupyter-widgets/controls",
            "_view_module_version": "1.5.0",
            "_view_name": "ProgressView",
            "bar_style": "success",
            "description": "",
            "description_tooltip": null,
            "layout": "IPY_MODEL_c25f8f5b534b45f08debe4052a05cb6a",
            "max": 1585,
            "min": 0,
            "orientation": "horizontal",
            "style": "IPY_MODEL_bc5bc58d5917440e8965d814a3e6c285",
            "value": 1585
          }
        },
        "6d4a3db56c7f48c7ba77bbe2ab1a3dfd": {
          "model_module": "@jupyter-widgets/controls",
          "model_name": "HTMLModel",
          "model_module_version": "1.5.0",
          "state": {
            "_dom_classes": [],
            "_model_module": "@jupyter-widgets/controls",
            "_model_module_version": "1.5.0",
            "_model_name": "HTMLModel",
            "_view_count": null,
            "_view_module": "@jupyter-widgets/controls",
            "_view_module_version": "1.5.0",
            "_view_name": "HTMLView",
            "description": "",
            "description_tooltip": null,
            "layout": "IPY_MODEL_e68b8474c9904529ac58c49eb1958987",
            "placeholder": "​",
            "style": "IPY_MODEL_15258857119b46bc8c8f58d93514f645",
            "value": " 1.58k/1.58k [00:00&lt;00:00, 43.3kB/s]"
          }
        },
        "5cc4618bc49e4d429157fb3ec9971fa2": {
          "model_module": "@jupyter-widgets/base",
          "model_name": "LayoutModel",
          "model_module_version": "1.2.0",
          "state": {
            "_model_module": "@jupyter-widgets/base",
            "_model_module_version": "1.2.0",
            "_model_name": "LayoutModel",
            "_view_count": null,
            "_view_module": "@jupyter-widgets/base",
            "_view_module_version": "1.2.0",
            "_view_name": "LayoutView",
            "align_content": null,
            "align_items": null,
            "align_self": null,
            "border": null,
            "bottom": null,
            "display": null,
            "flex": null,
            "flex_flow": null,
            "grid_area": null,
            "grid_auto_columns": null,
            "grid_auto_flow": null,
            "grid_auto_rows": null,
            "grid_column": null,
            "grid_gap": null,
            "grid_row": null,
            "grid_template_areas": null,
            "grid_template_columns": null,
            "grid_template_rows": null,
            "height": null,
            "justify_content": null,
            "justify_items": null,
            "left": null,
            "margin": null,
            "max_height": null,
            "max_width": null,
            "min_height": null,
            "min_width": null,
            "object_fit": null,
            "object_position": null,
            "order": null,
            "overflow": null,
            "overflow_x": null,
            "overflow_y": null,
            "padding": null,
            "right": null,
            "top": null,
            "visibility": null,
            "width": null
          }
        },
        "7bc9c42469344703a408d39e889f7931": {
          "model_module": "@jupyter-widgets/base",
          "model_name": "LayoutModel",
          "model_module_version": "1.2.0",
          "state": {
            "_model_module": "@jupyter-widgets/base",
            "_model_module_version": "1.2.0",
            "_model_name": "LayoutModel",
            "_view_count": null,
            "_view_module": "@jupyter-widgets/base",
            "_view_module_version": "1.2.0",
            "_view_name": "LayoutView",
            "align_content": null,
            "align_items": null,
            "align_self": null,
            "border": null,
            "bottom": null,
            "display": null,
            "flex": null,
            "flex_flow": null,
            "grid_area": null,
            "grid_auto_columns": null,
            "grid_auto_flow": null,
            "grid_auto_rows": null,
            "grid_column": null,
            "grid_gap": null,
            "grid_row": null,
            "grid_template_areas": null,
            "grid_template_columns": null,
            "grid_template_rows": null,
            "height": null,
            "justify_content": null,
            "justify_items": null,
            "left": null,
            "margin": null,
            "max_height": null,
            "max_width": null,
            "min_height": null,
            "min_width": null,
            "object_fit": null,
            "object_position": null,
            "order": null,
            "overflow": null,
            "overflow_x": null,
            "overflow_y": null,
            "padding": null,
            "right": null,
            "top": null,
            "visibility": null,
            "width": null
          }
        },
        "2068e105cde34f738101b56f043cf17d": {
          "model_module": "@jupyter-widgets/controls",
          "model_name": "DescriptionStyleModel",
          "model_module_version": "1.5.0",
          "state": {
            "_model_module": "@jupyter-widgets/controls",
            "_model_module_version": "1.5.0",
            "_model_name": "DescriptionStyleModel",
            "_view_count": null,
            "_view_module": "@jupyter-widgets/base",
            "_view_module_version": "1.2.0",
            "_view_name": "StyleView",
            "description_width": ""
          }
        },
        "c25f8f5b534b45f08debe4052a05cb6a": {
          "model_module": "@jupyter-widgets/base",
          "model_name": "LayoutModel",
          "model_module_version": "1.2.0",
          "state": {
            "_model_module": "@jupyter-widgets/base",
            "_model_module_version": "1.2.0",
            "_model_name": "LayoutModel",
            "_view_count": null,
            "_view_module": "@jupyter-widgets/base",
            "_view_module_version": "1.2.0",
            "_view_name": "LayoutView",
            "align_content": null,
            "align_items": null,
            "align_self": null,
            "border": null,
            "bottom": null,
            "display": null,
            "flex": null,
            "flex_flow": null,
            "grid_area": null,
            "grid_auto_columns": null,
            "grid_auto_flow": null,
            "grid_auto_rows": null,
            "grid_column": null,
            "grid_gap": null,
            "grid_row": null,
            "grid_template_areas": null,
            "grid_template_columns": null,
            "grid_template_rows": null,
            "height": null,
            "justify_content": null,
            "justify_items": null,
            "left": null,
            "margin": null,
            "max_height": null,
            "max_width": null,
            "min_height": null,
            "min_width": null,
            "object_fit": null,
            "object_position": null,
            "order": null,
            "overflow": null,
            "overflow_x": null,
            "overflow_y": null,
            "padding": null,
            "right": null,
            "top": null,
            "visibility": null,
            "width": null
          }
        },
        "bc5bc58d5917440e8965d814a3e6c285": {
          "model_module": "@jupyter-widgets/controls",
          "model_name": "ProgressStyleModel",
          "model_module_version": "1.5.0",
          "state": {
            "_model_module": "@jupyter-widgets/controls",
            "_model_module_version": "1.5.0",
            "_model_name": "ProgressStyleModel",
            "_view_count": null,
            "_view_module": "@jupyter-widgets/base",
            "_view_module_version": "1.2.0",
            "_view_name": "StyleView",
            "bar_color": null,
            "description_width": ""
          }
        },
        "e68b8474c9904529ac58c49eb1958987": {
          "model_module": "@jupyter-widgets/base",
          "model_name": "LayoutModel",
          "model_module_version": "1.2.0",
          "state": {
            "_model_module": "@jupyter-widgets/base",
            "_model_module_version": "1.2.0",
            "_model_name": "LayoutModel",
            "_view_count": null,
            "_view_module": "@jupyter-widgets/base",
            "_view_module_version": "1.2.0",
            "_view_name": "LayoutView",
            "align_content": null,
            "align_items": null,
            "align_self": null,
            "border": null,
            "bottom": null,
            "display": null,
            "flex": null,
            "flex_flow": null,
            "grid_area": null,
            "grid_auto_columns": null,
            "grid_auto_flow": null,
            "grid_auto_rows": null,
            "grid_column": null,
            "grid_gap": null,
            "grid_row": null,
            "grid_template_areas": null,
            "grid_template_columns": null,
            "grid_template_rows": null,
            "height": null,
            "justify_content": null,
            "justify_items": null,
            "left": null,
            "margin": null,
            "max_height": null,
            "max_width": null,
            "min_height": null,
            "min_width": null,
            "object_fit": null,
            "object_position": null,
            "order": null,
            "overflow": null,
            "overflow_x": null,
            "overflow_y": null,
            "padding": null,
            "right": null,
            "top": null,
            "visibility": null,
            "width": null
          }
        },
        "15258857119b46bc8c8f58d93514f645": {
          "model_module": "@jupyter-widgets/controls",
          "model_name": "DescriptionStyleModel",
          "model_module_version": "1.5.0",
          "state": {
            "_model_module": "@jupyter-widgets/controls",
            "_model_module_version": "1.5.0",
            "_model_name": "DescriptionStyleModel",
            "_view_count": null,
            "_view_module": "@jupyter-widgets/base",
            "_view_module_version": "1.2.0",
            "_view_name": "StyleView",
            "description_width": ""
          }
        },
        "068f9fa3b2eb421085d52df1accda787": {
          "model_module": "@jupyter-widgets/controls",
          "model_name": "HBoxModel",
          "model_module_version": "1.5.0",
          "state": {
            "_dom_classes": [],
            "_model_module": "@jupyter-widgets/controls",
            "_model_module_version": "1.5.0",
            "_model_name": "HBoxModel",
            "_view_count": null,
            "_view_module": "@jupyter-widgets/controls",
            "_view_module_version": "1.5.0",
            "_view_name": "HBoxView",
            "box_style": "",
            "children": [
              "IPY_MODEL_91188feaebf945fa82701a448fddc75a",
              "IPY_MODEL_3ed92329d7544d9688afbf9bccc938dd",
              "IPY_MODEL_67ed2403340b4b00b59db0b5c0c59fd8"
            ],
            "layout": "IPY_MODEL_8e08b9af83ff4716ad1a2ee0e7bec8de"
          }
        },
        "91188feaebf945fa82701a448fddc75a": {
          "model_module": "@jupyter-widgets/controls",
          "model_name": "HTMLModel",
          "model_module_version": "1.5.0",
          "state": {
            "_dom_classes": [],
            "_model_module": "@jupyter-widgets/controls",
            "_model_module_version": "1.5.0",
            "_model_name": "HTMLModel",
            "_view_count": null,
            "_view_module": "@jupyter-widgets/controls",
            "_view_module_version": "1.5.0",
            "_view_name": "HTMLView",
            "description": "",
            "description_tooltip": null,
            "layout": "IPY_MODEL_7179bbcbf6054c7485a166a427a32a88",
            "placeholder": "​",
            "style": "IPY_MODEL_1de092b6f4774c5d8d736012a228de11",
            "value": "Downloading pytorch_model.bin: 100%"
          }
        },
        "3ed92329d7544d9688afbf9bccc938dd": {
          "model_module": "@jupyter-widgets/controls",
          "model_name": "FloatProgressModel",
          "model_module_version": "1.5.0",
          "state": {
            "_dom_classes": [],
            "_model_module": "@jupyter-widgets/controls",
            "_model_module_version": "1.5.0",
            "_model_name": "FloatProgressModel",
            "_view_count": null,
            "_view_module": "@jupyter-widgets/controls",
            "_view_module_version": "1.5.0",
            "_view_name": "ProgressView",
            "bar_style": "success",
            "description": "",
            "description_tooltip": null,
            "layout": "IPY_MODEL_0dcf980e371c40e89f9ba53bb3997ca5",
            "max": 1625270765,
            "min": 0,
            "orientation": "horizontal",
            "style": "IPY_MODEL_7e1a6384ed8d4729b38d450413b7aa45",
            "value": 1625270765
          }
        },
        "67ed2403340b4b00b59db0b5c0c59fd8": {
          "model_module": "@jupyter-widgets/controls",
          "model_name": "HTMLModel",
          "model_module_version": "1.5.0",
          "state": {
            "_dom_classes": [],
            "_model_module": "@jupyter-widgets/controls",
            "_model_module_version": "1.5.0",
            "_model_name": "HTMLModel",
            "_view_count": null,
            "_view_module": "@jupyter-widgets/controls",
            "_view_module_version": "1.5.0",
            "_view_name": "HTMLView",
            "description": "",
            "description_tooltip": null,
            "layout": "IPY_MODEL_5a9614311c9b43e7aa070a60250dfbba",
            "placeholder": "​",
            "style": "IPY_MODEL_d9f6eac40f444553bdf0c06382275770",
            "value": " 1.63G/1.63G [00:20&lt;00:00, 114MB/s]"
          }
        },
        "8e08b9af83ff4716ad1a2ee0e7bec8de": {
          "model_module": "@jupyter-widgets/base",
          "model_name": "LayoutModel",
          "model_module_version": "1.2.0",
          "state": {
            "_model_module": "@jupyter-widgets/base",
            "_model_module_version": "1.2.0",
            "_model_name": "LayoutModel",
            "_view_count": null,
            "_view_module": "@jupyter-widgets/base",
            "_view_module_version": "1.2.0",
            "_view_name": "LayoutView",
            "align_content": null,
            "align_items": null,
            "align_self": null,
            "border": null,
            "bottom": null,
            "display": null,
            "flex": null,
            "flex_flow": null,
            "grid_area": null,
            "grid_auto_columns": null,
            "grid_auto_flow": null,
            "grid_auto_rows": null,
            "grid_column": null,
            "grid_gap": null,
            "grid_row": null,
            "grid_template_areas": null,
            "grid_template_columns": null,
            "grid_template_rows": null,
            "height": null,
            "justify_content": null,
            "justify_items": null,
            "left": null,
            "margin": null,
            "max_height": null,
            "max_width": null,
            "min_height": null,
            "min_width": null,
            "object_fit": null,
            "object_position": null,
            "order": null,
            "overflow": null,
            "overflow_x": null,
            "overflow_y": null,
            "padding": null,
            "right": null,
            "top": null,
            "visibility": null,
            "width": null
          }
        },
        "7179bbcbf6054c7485a166a427a32a88": {
          "model_module": "@jupyter-widgets/base",
          "model_name": "LayoutModel",
          "model_module_version": "1.2.0",
          "state": {
            "_model_module": "@jupyter-widgets/base",
            "_model_module_version": "1.2.0",
            "_model_name": "LayoutModel",
            "_view_count": null,
            "_view_module": "@jupyter-widgets/base",
            "_view_module_version": "1.2.0",
            "_view_name": "LayoutView",
            "align_content": null,
            "align_items": null,
            "align_self": null,
            "border": null,
            "bottom": null,
            "display": null,
            "flex": null,
            "flex_flow": null,
            "grid_area": null,
            "grid_auto_columns": null,
            "grid_auto_flow": null,
            "grid_auto_rows": null,
            "grid_column": null,
            "grid_gap": null,
            "grid_row": null,
            "grid_template_areas": null,
            "grid_template_columns": null,
            "grid_template_rows": null,
            "height": null,
            "justify_content": null,
            "justify_items": null,
            "left": null,
            "margin": null,
            "max_height": null,
            "max_width": null,
            "min_height": null,
            "min_width": null,
            "object_fit": null,
            "object_position": null,
            "order": null,
            "overflow": null,
            "overflow_x": null,
            "overflow_y": null,
            "padding": null,
            "right": null,
            "top": null,
            "visibility": null,
            "width": null
          }
        },
        "1de092b6f4774c5d8d736012a228de11": {
          "model_module": "@jupyter-widgets/controls",
          "model_name": "DescriptionStyleModel",
          "model_module_version": "1.5.0",
          "state": {
            "_model_module": "@jupyter-widgets/controls",
            "_model_module_version": "1.5.0",
            "_model_name": "DescriptionStyleModel",
            "_view_count": null,
            "_view_module": "@jupyter-widgets/base",
            "_view_module_version": "1.2.0",
            "_view_name": "StyleView",
            "description_width": ""
          }
        },
        "0dcf980e371c40e89f9ba53bb3997ca5": {
          "model_module": "@jupyter-widgets/base",
          "model_name": "LayoutModel",
          "model_module_version": "1.2.0",
          "state": {
            "_model_module": "@jupyter-widgets/base",
            "_model_module_version": "1.2.0",
            "_model_name": "LayoutModel",
            "_view_count": null,
            "_view_module": "@jupyter-widgets/base",
            "_view_module_version": "1.2.0",
            "_view_name": "LayoutView",
            "align_content": null,
            "align_items": null,
            "align_self": null,
            "border": null,
            "bottom": null,
            "display": null,
            "flex": null,
            "flex_flow": null,
            "grid_area": null,
            "grid_auto_columns": null,
            "grid_auto_flow": null,
            "grid_auto_rows": null,
            "grid_column": null,
            "grid_gap": null,
            "grid_row": null,
            "grid_template_areas": null,
            "grid_template_columns": null,
            "grid_template_rows": null,
            "height": null,
            "justify_content": null,
            "justify_items": null,
            "left": null,
            "margin": null,
            "max_height": null,
            "max_width": null,
            "min_height": null,
            "min_width": null,
            "object_fit": null,
            "object_position": null,
            "order": null,
            "overflow": null,
            "overflow_x": null,
            "overflow_y": null,
            "padding": null,
            "right": null,
            "top": null,
            "visibility": null,
            "width": null
          }
        },
        "7e1a6384ed8d4729b38d450413b7aa45": {
          "model_module": "@jupyter-widgets/controls",
          "model_name": "ProgressStyleModel",
          "model_module_version": "1.5.0",
          "state": {
            "_model_module": "@jupyter-widgets/controls",
            "_model_module_version": "1.5.0",
            "_model_name": "ProgressStyleModel",
            "_view_count": null,
            "_view_module": "@jupyter-widgets/base",
            "_view_module_version": "1.2.0",
            "_view_name": "StyleView",
            "bar_color": null,
            "description_width": ""
          }
        },
        "5a9614311c9b43e7aa070a60250dfbba": {
          "model_module": "@jupyter-widgets/base",
          "model_name": "LayoutModel",
          "model_module_version": "1.2.0",
          "state": {
            "_model_module": "@jupyter-widgets/base",
            "_model_module_version": "1.2.0",
            "_model_name": "LayoutModel",
            "_view_count": null,
            "_view_module": "@jupyter-widgets/base",
            "_view_module_version": "1.2.0",
            "_view_name": "LayoutView",
            "align_content": null,
            "align_items": null,
            "align_self": null,
            "border": null,
            "bottom": null,
            "display": null,
            "flex": null,
            "flex_flow": null,
            "grid_area": null,
            "grid_auto_columns": null,
            "grid_auto_flow": null,
            "grid_auto_rows": null,
            "grid_column": null,
            "grid_gap": null,
            "grid_row": null,
            "grid_template_areas": null,
            "grid_template_columns": null,
            "grid_template_rows": null,
            "height": null,
            "justify_content": null,
            "justify_items": null,
            "left": null,
            "margin": null,
            "max_height": null,
            "max_width": null,
            "min_height": null,
            "min_width": null,
            "object_fit": null,
            "object_position": null,
            "order": null,
            "overflow": null,
            "overflow_x": null,
            "overflow_y": null,
            "padding": null,
            "right": null,
            "top": null,
            "visibility": null,
            "width": null
          }
        },
        "d9f6eac40f444553bdf0c06382275770": {
          "model_module": "@jupyter-widgets/controls",
          "model_name": "DescriptionStyleModel",
          "model_module_version": "1.5.0",
          "state": {
            "_model_module": "@jupyter-widgets/controls",
            "_model_module_version": "1.5.0",
            "_model_name": "DescriptionStyleModel",
            "_view_count": null,
            "_view_module": "@jupyter-widgets/base",
            "_view_module_version": "1.2.0",
            "_view_name": "StyleView",
            "description_width": ""
          }
        },
        "5c40240aafb94cf9a5f75dd9f1f382ba": {
          "model_module": "@jupyter-widgets/controls",
          "model_name": "HBoxModel",
          "model_module_version": "1.5.0",
          "state": {
            "_dom_classes": [],
            "_model_module": "@jupyter-widgets/controls",
            "_model_module_version": "1.5.0",
            "_model_name": "HBoxModel",
            "_view_count": null,
            "_view_module": "@jupyter-widgets/controls",
            "_view_module_version": "1.5.0",
            "_view_name": "HBoxView",
            "box_style": "",
            "children": [
              "IPY_MODEL_5eefa44d178d445086364f5cc53fa323",
              "IPY_MODEL_71366d40bfb74156832f4dde9ee5263b",
              "IPY_MODEL_8054258034f0468ba9081596424c88ee"
            ],
            "layout": "IPY_MODEL_eb9c70046343425985c154de75f48426"
          }
        },
        "5eefa44d178d445086364f5cc53fa323": {
          "model_module": "@jupyter-widgets/controls",
          "model_name": "HTMLModel",
          "model_module_version": "1.5.0",
          "state": {
            "_dom_classes": [],
            "_model_module": "@jupyter-widgets/controls",
            "_model_module_version": "1.5.0",
            "_model_name": "HTMLModel",
            "_view_count": null,
            "_view_module": "@jupyter-widgets/controls",
            "_view_module_version": "1.5.0",
            "_view_name": "HTMLView",
            "description": "",
            "description_tooltip": null,
            "layout": "IPY_MODEL_1e38f8b89e5a4730be1997ead1d2bd64",
            "placeholder": "​",
            "style": "IPY_MODEL_06883830b861400da3de1962504be2d3",
            "value": "Downloading (…)neration_config.json: 100%"
          }
        },
        "71366d40bfb74156832f4dde9ee5263b": {
          "model_module": "@jupyter-widgets/controls",
          "model_name": "FloatProgressModel",
          "model_module_version": "1.5.0",
          "state": {
            "_dom_classes": [],
            "_model_module": "@jupyter-widgets/controls",
            "_model_module_version": "1.5.0",
            "_model_name": "FloatProgressModel",
            "_view_count": null,
            "_view_module": "@jupyter-widgets/controls",
            "_view_module_version": "1.5.0",
            "_view_name": "ProgressView",
            "bar_style": "success",
            "description": "",
            "description_tooltip": null,
            "layout": "IPY_MODEL_f4a271c590ac4574a6814ccbcb35b99b",
            "max": 363,
            "min": 0,
            "orientation": "horizontal",
            "style": "IPY_MODEL_cdc9060e6c9c4816b541d251b666cdfd",
            "value": 363
          }
        },
        "8054258034f0468ba9081596424c88ee": {
          "model_module": "@jupyter-widgets/controls",
          "model_name": "HTMLModel",
          "model_module_version": "1.5.0",
          "state": {
            "_dom_classes": [],
            "_model_module": "@jupyter-widgets/controls",
            "_model_module_version": "1.5.0",
            "_model_name": "HTMLModel",
            "_view_count": null,
            "_view_module": "@jupyter-widgets/controls",
            "_view_module_version": "1.5.0",
            "_view_name": "HTMLView",
            "description": "",
            "description_tooltip": null,
            "layout": "IPY_MODEL_f40eb7bdcb82425290616620c8512981",
            "placeholder": "​",
            "style": "IPY_MODEL_841eef02c2ab4c04a1b9d6c153fbaf95",
            "value": " 363/363 [00:00&lt;00:00, 15.6kB/s]"
          }
        },
        "eb9c70046343425985c154de75f48426": {
          "model_module": "@jupyter-widgets/base",
          "model_name": "LayoutModel",
          "model_module_version": "1.2.0",
          "state": {
            "_model_module": "@jupyter-widgets/base",
            "_model_module_version": "1.2.0",
            "_model_name": "LayoutModel",
            "_view_count": null,
            "_view_module": "@jupyter-widgets/base",
            "_view_module_version": "1.2.0",
            "_view_name": "LayoutView",
            "align_content": null,
            "align_items": null,
            "align_self": null,
            "border": null,
            "bottom": null,
            "display": null,
            "flex": null,
            "flex_flow": null,
            "grid_area": null,
            "grid_auto_columns": null,
            "grid_auto_flow": null,
            "grid_auto_rows": null,
            "grid_column": null,
            "grid_gap": null,
            "grid_row": null,
            "grid_template_areas": null,
            "grid_template_columns": null,
            "grid_template_rows": null,
            "height": null,
            "justify_content": null,
            "justify_items": null,
            "left": null,
            "margin": null,
            "max_height": null,
            "max_width": null,
            "min_height": null,
            "min_width": null,
            "object_fit": null,
            "object_position": null,
            "order": null,
            "overflow": null,
            "overflow_x": null,
            "overflow_y": null,
            "padding": null,
            "right": null,
            "top": null,
            "visibility": null,
            "width": null
          }
        },
        "1e38f8b89e5a4730be1997ead1d2bd64": {
          "model_module": "@jupyter-widgets/base",
          "model_name": "LayoutModel",
          "model_module_version": "1.2.0",
          "state": {
            "_model_module": "@jupyter-widgets/base",
            "_model_module_version": "1.2.0",
            "_model_name": "LayoutModel",
            "_view_count": null,
            "_view_module": "@jupyter-widgets/base",
            "_view_module_version": "1.2.0",
            "_view_name": "LayoutView",
            "align_content": null,
            "align_items": null,
            "align_self": null,
            "border": null,
            "bottom": null,
            "display": null,
            "flex": null,
            "flex_flow": null,
            "grid_area": null,
            "grid_auto_columns": null,
            "grid_auto_flow": null,
            "grid_auto_rows": null,
            "grid_column": null,
            "grid_gap": null,
            "grid_row": null,
            "grid_template_areas": null,
            "grid_template_columns": null,
            "grid_template_rows": null,
            "height": null,
            "justify_content": null,
            "justify_items": null,
            "left": null,
            "margin": null,
            "max_height": null,
            "max_width": null,
            "min_height": null,
            "min_width": null,
            "object_fit": null,
            "object_position": null,
            "order": null,
            "overflow": null,
            "overflow_x": null,
            "overflow_y": null,
            "padding": null,
            "right": null,
            "top": null,
            "visibility": null,
            "width": null
          }
        },
        "06883830b861400da3de1962504be2d3": {
          "model_module": "@jupyter-widgets/controls",
          "model_name": "DescriptionStyleModel",
          "model_module_version": "1.5.0",
          "state": {
            "_model_module": "@jupyter-widgets/controls",
            "_model_module_version": "1.5.0",
            "_model_name": "DescriptionStyleModel",
            "_view_count": null,
            "_view_module": "@jupyter-widgets/base",
            "_view_module_version": "1.2.0",
            "_view_name": "StyleView",
            "description_width": ""
          }
        },
        "f4a271c590ac4574a6814ccbcb35b99b": {
          "model_module": "@jupyter-widgets/base",
          "model_name": "LayoutModel",
          "model_module_version": "1.2.0",
          "state": {
            "_model_module": "@jupyter-widgets/base",
            "_model_module_version": "1.2.0",
            "_model_name": "LayoutModel",
            "_view_count": null,
            "_view_module": "@jupyter-widgets/base",
            "_view_module_version": "1.2.0",
            "_view_name": "LayoutView",
            "align_content": null,
            "align_items": null,
            "align_self": null,
            "border": null,
            "bottom": null,
            "display": null,
            "flex": null,
            "flex_flow": null,
            "grid_area": null,
            "grid_auto_columns": null,
            "grid_auto_flow": null,
            "grid_auto_rows": null,
            "grid_column": null,
            "grid_gap": null,
            "grid_row": null,
            "grid_template_areas": null,
            "grid_template_columns": null,
            "grid_template_rows": null,
            "height": null,
            "justify_content": null,
            "justify_items": null,
            "left": null,
            "margin": null,
            "max_height": null,
            "max_width": null,
            "min_height": null,
            "min_width": null,
            "object_fit": null,
            "object_position": null,
            "order": null,
            "overflow": null,
            "overflow_x": null,
            "overflow_y": null,
            "padding": null,
            "right": null,
            "top": null,
            "visibility": null,
            "width": null
          }
        },
        "cdc9060e6c9c4816b541d251b666cdfd": {
          "model_module": "@jupyter-widgets/controls",
          "model_name": "ProgressStyleModel",
          "model_module_version": "1.5.0",
          "state": {
            "_model_module": "@jupyter-widgets/controls",
            "_model_module_version": "1.5.0",
            "_model_name": "ProgressStyleModel",
            "_view_count": null,
            "_view_module": "@jupyter-widgets/base",
            "_view_module_version": "1.2.0",
            "_view_name": "StyleView",
            "bar_color": null,
            "description_width": ""
          }
        },
        "f40eb7bdcb82425290616620c8512981": {
          "model_module": "@jupyter-widgets/base",
          "model_name": "LayoutModel",
          "model_module_version": "1.2.0",
          "state": {
            "_model_module": "@jupyter-widgets/base",
            "_model_module_version": "1.2.0",
            "_model_name": "LayoutModel",
            "_view_count": null,
            "_view_module": "@jupyter-widgets/base",
            "_view_module_version": "1.2.0",
            "_view_name": "LayoutView",
            "align_content": null,
            "align_items": null,
            "align_self": null,
            "border": null,
            "bottom": null,
            "display": null,
            "flex": null,
            "flex_flow": null,
            "grid_area": null,
            "grid_auto_columns": null,
            "grid_auto_flow": null,
            "grid_auto_rows": null,
            "grid_column": null,
            "grid_gap": null,
            "grid_row": null,
            "grid_template_areas": null,
            "grid_template_columns": null,
            "grid_template_rows": null,
            "height": null,
            "justify_content": null,
            "justify_items": null,
            "left": null,
            "margin": null,
            "max_height": null,
            "max_width": null,
            "min_height": null,
            "min_width": null,
            "object_fit": null,
            "object_position": null,
            "order": null,
            "overflow": null,
            "overflow_x": null,
            "overflow_y": null,
            "padding": null,
            "right": null,
            "top": null,
            "visibility": null,
            "width": null
          }
        },
        "841eef02c2ab4c04a1b9d6c153fbaf95": {
          "model_module": "@jupyter-widgets/controls",
          "model_name": "DescriptionStyleModel",
          "model_module_version": "1.5.0",
          "state": {
            "_model_module": "@jupyter-widgets/controls",
            "_model_module_version": "1.5.0",
            "_model_name": "DescriptionStyleModel",
            "_view_count": null,
            "_view_module": "@jupyter-widgets/base",
            "_view_module_version": "1.2.0",
            "_view_name": "StyleView",
            "description_width": ""
          }
        },
        "11de9f9362ef443ba3244321f564e09c": {
          "model_module": "@jupyter-widgets/controls",
          "model_name": "HBoxModel",
          "model_module_version": "1.5.0",
          "state": {
            "_dom_classes": [],
            "_model_module": "@jupyter-widgets/controls",
            "_model_module_version": "1.5.0",
            "_model_name": "HBoxModel",
            "_view_count": null,
            "_view_module": "@jupyter-widgets/controls",
            "_view_module_version": "1.5.0",
            "_view_name": "HBoxView",
            "box_style": "",
            "children": [
              "IPY_MODEL_39381560eebe428d976d42eb1a12aa35",
              "IPY_MODEL_f0835bf5b91849d78dd89f6c960420ed",
              "IPY_MODEL_94f1449bd4e642b5afdcdc2278cd4446"
            ],
            "layout": "IPY_MODEL_987e6a28f28343eab4f11f8ad8a43a50"
          }
        },
        "39381560eebe428d976d42eb1a12aa35": {
          "model_module": "@jupyter-widgets/controls",
          "model_name": "HTMLModel",
          "model_module_version": "1.5.0",
          "state": {
            "_dom_classes": [],
            "_model_module": "@jupyter-widgets/controls",
            "_model_module_version": "1.5.0",
            "_model_name": "HTMLModel",
            "_view_count": null,
            "_view_module": "@jupyter-widgets/controls",
            "_view_module_version": "1.5.0",
            "_view_name": "HTMLView",
            "description": "",
            "description_tooltip": null,
            "layout": "IPY_MODEL_f5a56e5078d34592af71bd683973a1ed",
            "placeholder": "​",
            "style": "IPY_MODEL_e3c498ac376f45a7ba3ea1037fde493e",
            "value": "Downloading (…)olve/main/vocab.json: 100%"
          }
        },
        "f0835bf5b91849d78dd89f6c960420ed": {
          "model_module": "@jupyter-widgets/controls",
          "model_name": "FloatProgressModel",
          "model_module_version": "1.5.0",
          "state": {
            "_dom_classes": [],
            "_model_module": "@jupyter-widgets/controls",
            "_model_module_version": "1.5.0",
            "_model_name": "FloatProgressModel",
            "_view_count": null,
            "_view_module": "@jupyter-widgets/controls",
            "_view_module_version": "1.5.0",
            "_view_name": "ProgressView",
            "bar_style": "success",
            "description": "",
            "description_tooltip": null,
            "layout": "IPY_MODEL_91ac216cc65a4ddfaaf52b57650ccc11",
            "max": 898823,
            "min": 0,
            "orientation": "horizontal",
            "style": "IPY_MODEL_8b798f81f9e64c23ae64760fee687bfb",
            "value": 898823
          }
        },
        "94f1449bd4e642b5afdcdc2278cd4446": {
          "model_module": "@jupyter-widgets/controls",
          "model_name": "HTMLModel",
          "model_module_version": "1.5.0",
          "state": {
            "_dom_classes": [],
            "_model_module": "@jupyter-widgets/controls",
            "_model_module_version": "1.5.0",
            "_model_name": "HTMLModel",
            "_view_count": null,
            "_view_module": "@jupyter-widgets/controls",
            "_view_module_version": "1.5.0",
            "_view_name": "HTMLView",
            "description": "",
            "description_tooltip": null,
            "layout": "IPY_MODEL_8d394ac531354bb9a25bde0e915c076b",
            "placeholder": "​",
            "style": "IPY_MODEL_12eba39a45334c5391eb8b88d1284c36",
            "value": " 899k/899k [00:00&lt;00:00, 8.01MB/s]"
          }
        },
        "987e6a28f28343eab4f11f8ad8a43a50": {
          "model_module": "@jupyter-widgets/base",
          "model_name": "LayoutModel",
          "model_module_version": "1.2.0",
          "state": {
            "_model_module": "@jupyter-widgets/base",
            "_model_module_version": "1.2.0",
            "_model_name": "LayoutModel",
            "_view_count": null,
            "_view_module": "@jupyter-widgets/base",
            "_view_module_version": "1.2.0",
            "_view_name": "LayoutView",
            "align_content": null,
            "align_items": null,
            "align_self": null,
            "border": null,
            "bottom": null,
            "display": null,
            "flex": null,
            "flex_flow": null,
            "grid_area": null,
            "grid_auto_columns": null,
            "grid_auto_flow": null,
            "grid_auto_rows": null,
            "grid_column": null,
            "grid_gap": null,
            "grid_row": null,
            "grid_template_areas": null,
            "grid_template_columns": null,
            "grid_template_rows": null,
            "height": null,
            "justify_content": null,
            "justify_items": null,
            "left": null,
            "margin": null,
            "max_height": null,
            "max_width": null,
            "min_height": null,
            "min_width": null,
            "object_fit": null,
            "object_position": null,
            "order": null,
            "overflow": null,
            "overflow_x": null,
            "overflow_y": null,
            "padding": null,
            "right": null,
            "top": null,
            "visibility": null,
            "width": null
          }
        },
        "f5a56e5078d34592af71bd683973a1ed": {
          "model_module": "@jupyter-widgets/base",
          "model_name": "LayoutModel",
          "model_module_version": "1.2.0",
          "state": {
            "_model_module": "@jupyter-widgets/base",
            "_model_module_version": "1.2.0",
            "_model_name": "LayoutModel",
            "_view_count": null,
            "_view_module": "@jupyter-widgets/base",
            "_view_module_version": "1.2.0",
            "_view_name": "LayoutView",
            "align_content": null,
            "align_items": null,
            "align_self": null,
            "border": null,
            "bottom": null,
            "display": null,
            "flex": null,
            "flex_flow": null,
            "grid_area": null,
            "grid_auto_columns": null,
            "grid_auto_flow": null,
            "grid_auto_rows": null,
            "grid_column": null,
            "grid_gap": null,
            "grid_row": null,
            "grid_template_areas": null,
            "grid_template_columns": null,
            "grid_template_rows": null,
            "height": null,
            "justify_content": null,
            "justify_items": null,
            "left": null,
            "margin": null,
            "max_height": null,
            "max_width": null,
            "min_height": null,
            "min_width": null,
            "object_fit": null,
            "object_position": null,
            "order": null,
            "overflow": null,
            "overflow_x": null,
            "overflow_y": null,
            "padding": null,
            "right": null,
            "top": null,
            "visibility": null,
            "width": null
          }
        },
        "e3c498ac376f45a7ba3ea1037fde493e": {
          "model_module": "@jupyter-widgets/controls",
          "model_name": "DescriptionStyleModel",
          "model_module_version": "1.5.0",
          "state": {
            "_model_module": "@jupyter-widgets/controls",
            "_model_module_version": "1.5.0",
            "_model_name": "DescriptionStyleModel",
            "_view_count": null,
            "_view_module": "@jupyter-widgets/base",
            "_view_module_version": "1.2.0",
            "_view_name": "StyleView",
            "description_width": ""
          }
        },
        "91ac216cc65a4ddfaaf52b57650ccc11": {
          "model_module": "@jupyter-widgets/base",
          "model_name": "LayoutModel",
          "model_module_version": "1.2.0",
          "state": {
            "_model_module": "@jupyter-widgets/base",
            "_model_module_version": "1.2.0",
            "_model_name": "LayoutModel",
            "_view_count": null,
            "_view_module": "@jupyter-widgets/base",
            "_view_module_version": "1.2.0",
            "_view_name": "LayoutView",
            "align_content": null,
            "align_items": null,
            "align_self": null,
            "border": null,
            "bottom": null,
            "display": null,
            "flex": null,
            "flex_flow": null,
            "grid_area": null,
            "grid_auto_columns": null,
            "grid_auto_flow": null,
            "grid_auto_rows": null,
            "grid_column": null,
            "grid_gap": null,
            "grid_row": null,
            "grid_template_areas": null,
            "grid_template_columns": null,
            "grid_template_rows": null,
            "height": null,
            "justify_content": null,
            "justify_items": null,
            "left": null,
            "margin": null,
            "max_height": null,
            "max_width": null,
            "min_height": null,
            "min_width": null,
            "object_fit": null,
            "object_position": null,
            "order": null,
            "overflow": null,
            "overflow_x": null,
            "overflow_y": null,
            "padding": null,
            "right": null,
            "top": null,
            "visibility": null,
            "width": null
          }
        },
        "8b798f81f9e64c23ae64760fee687bfb": {
          "model_module": "@jupyter-widgets/controls",
          "model_name": "ProgressStyleModel",
          "model_module_version": "1.5.0",
          "state": {
            "_model_module": "@jupyter-widgets/controls",
            "_model_module_version": "1.5.0",
            "_model_name": "ProgressStyleModel",
            "_view_count": null,
            "_view_module": "@jupyter-widgets/base",
            "_view_module_version": "1.2.0",
            "_view_name": "StyleView",
            "bar_color": null,
            "description_width": ""
          }
        },
        "8d394ac531354bb9a25bde0e915c076b": {
          "model_module": "@jupyter-widgets/base",
          "model_name": "LayoutModel",
          "model_module_version": "1.2.0",
          "state": {
            "_model_module": "@jupyter-widgets/base",
            "_model_module_version": "1.2.0",
            "_model_name": "LayoutModel",
            "_view_count": null,
            "_view_module": "@jupyter-widgets/base",
            "_view_module_version": "1.2.0",
            "_view_name": "LayoutView",
            "align_content": null,
            "align_items": null,
            "align_self": null,
            "border": null,
            "bottom": null,
            "display": null,
            "flex": null,
            "flex_flow": null,
            "grid_area": null,
            "grid_auto_columns": null,
            "grid_auto_flow": null,
            "grid_auto_rows": null,
            "grid_column": null,
            "grid_gap": null,
            "grid_row": null,
            "grid_template_areas": null,
            "grid_template_columns": null,
            "grid_template_rows": null,
            "height": null,
            "justify_content": null,
            "justify_items": null,
            "left": null,
            "margin": null,
            "max_height": null,
            "max_width": null,
            "min_height": null,
            "min_width": null,
            "object_fit": null,
            "object_position": null,
            "order": null,
            "overflow": null,
            "overflow_x": null,
            "overflow_y": null,
            "padding": null,
            "right": null,
            "top": null,
            "visibility": null,
            "width": null
          }
        },
        "12eba39a45334c5391eb8b88d1284c36": {
          "model_module": "@jupyter-widgets/controls",
          "model_name": "DescriptionStyleModel",
          "model_module_version": "1.5.0",
          "state": {
            "_model_module": "@jupyter-widgets/controls",
            "_model_module_version": "1.5.0",
            "_model_name": "DescriptionStyleModel",
            "_view_count": null,
            "_view_module": "@jupyter-widgets/base",
            "_view_module_version": "1.2.0",
            "_view_name": "StyleView",
            "description_width": ""
          }
        },
        "f084cfd553604d8eb8780aed482a1877": {
          "model_module": "@jupyter-widgets/controls",
          "model_name": "HBoxModel",
          "model_module_version": "1.5.0",
          "state": {
            "_dom_classes": [],
            "_model_module": "@jupyter-widgets/controls",
            "_model_module_version": "1.5.0",
            "_model_name": "HBoxModel",
            "_view_count": null,
            "_view_module": "@jupyter-widgets/controls",
            "_view_module_version": "1.5.0",
            "_view_name": "HBoxView",
            "box_style": "",
            "children": [
              "IPY_MODEL_8e9139dd6a104f35a13269ab06f139f6",
              "IPY_MODEL_ea0408ee748f4507a517853e24d66288",
              "IPY_MODEL_98c8ec155b5b46398d69a212cf39c9dc"
            ],
            "layout": "IPY_MODEL_0191271fb8334789ba83d0952b354b80"
          }
        },
        "8e9139dd6a104f35a13269ab06f139f6": {
          "model_module": "@jupyter-widgets/controls",
          "model_name": "HTMLModel",
          "model_module_version": "1.5.0",
          "state": {
            "_dom_classes": [],
            "_model_module": "@jupyter-widgets/controls",
            "_model_module_version": "1.5.0",
            "_model_name": "HTMLModel",
            "_view_count": null,
            "_view_module": "@jupyter-widgets/controls",
            "_view_module_version": "1.5.0",
            "_view_name": "HTMLView",
            "description": "",
            "description_tooltip": null,
            "layout": "IPY_MODEL_12fc1d31d4964fbf903621290abc45ff",
            "placeholder": "​",
            "style": "IPY_MODEL_06afdc5216a44d369a117aa69e590820",
            "value": "Downloading (…)olve/main/merges.txt: 100%"
          }
        },
        "ea0408ee748f4507a517853e24d66288": {
          "model_module": "@jupyter-widgets/controls",
          "model_name": "FloatProgressModel",
          "model_module_version": "1.5.0",
          "state": {
            "_dom_classes": [],
            "_model_module": "@jupyter-widgets/controls",
            "_model_module_version": "1.5.0",
            "_model_name": "FloatProgressModel",
            "_view_count": null,
            "_view_module": "@jupyter-widgets/controls",
            "_view_module_version": "1.5.0",
            "_view_name": "ProgressView",
            "bar_style": "success",
            "description": "",
            "description_tooltip": null,
            "layout": "IPY_MODEL_7b0b62415a194d218662a2997609f3da",
            "max": 456318,
            "min": 0,
            "orientation": "horizontal",
            "style": "IPY_MODEL_b6fa565f30184337bb20d42adc609f64",
            "value": 456318
          }
        },
        "98c8ec155b5b46398d69a212cf39c9dc": {
          "model_module": "@jupyter-widgets/controls",
          "model_name": "HTMLModel",
          "model_module_version": "1.5.0",
          "state": {
            "_dom_classes": [],
            "_model_module": "@jupyter-widgets/controls",
            "_model_module_version": "1.5.0",
            "_model_name": "HTMLModel",
            "_view_count": null,
            "_view_module": "@jupyter-widgets/controls",
            "_view_module_version": "1.5.0",
            "_view_name": "HTMLView",
            "description": "",
            "description_tooltip": null,
            "layout": "IPY_MODEL_cdb5977da374485aa05e4723b2113cb5",
            "placeholder": "​",
            "style": "IPY_MODEL_437fcbb33c4b43629064bea1583a0d85",
            "value": " 456k/456k [00:00&lt;00:00, 5.78MB/s]"
          }
        },
        "0191271fb8334789ba83d0952b354b80": {
          "model_module": "@jupyter-widgets/base",
          "model_name": "LayoutModel",
          "model_module_version": "1.2.0",
          "state": {
            "_model_module": "@jupyter-widgets/base",
            "_model_module_version": "1.2.0",
            "_model_name": "LayoutModel",
            "_view_count": null,
            "_view_module": "@jupyter-widgets/base",
            "_view_module_version": "1.2.0",
            "_view_name": "LayoutView",
            "align_content": null,
            "align_items": null,
            "align_self": null,
            "border": null,
            "bottom": null,
            "display": null,
            "flex": null,
            "flex_flow": null,
            "grid_area": null,
            "grid_auto_columns": null,
            "grid_auto_flow": null,
            "grid_auto_rows": null,
            "grid_column": null,
            "grid_gap": null,
            "grid_row": null,
            "grid_template_areas": null,
            "grid_template_columns": null,
            "grid_template_rows": null,
            "height": null,
            "justify_content": null,
            "justify_items": null,
            "left": null,
            "margin": null,
            "max_height": null,
            "max_width": null,
            "min_height": null,
            "min_width": null,
            "object_fit": null,
            "object_position": null,
            "order": null,
            "overflow": null,
            "overflow_x": null,
            "overflow_y": null,
            "padding": null,
            "right": null,
            "top": null,
            "visibility": null,
            "width": null
          }
        },
        "12fc1d31d4964fbf903621290abc45ff": {
          "model_module": "@jupyter-widgets/base",
          "model_name": "LayoutModel",
          "model_module_version": "1.2.0",
          "state": {
            "_model_module": "@jupyter-widgets/base",
            "_model_module_version": "1.2.0",
            "_model_name": "LayoutModel",
            "_view_count": null,
            "_view_module": "@jupyter-widgets/base",
            "_view_module_version": "1.2.0",
            "_view_name": "LayoutView",
            "align_content": null,
            "align_items": null,
            "align_self": null,
            "border": null,
            "bottom": null,
            "display": null,
            "flex": null,
            "flex_flow": null,
            "grid_area": null,
            "grid_auto_columns": null,
            "grid_auto_flow": null,
            "grid_auto_rows": null,
            "grid_column": null,
            "grid_gap": null,
            "grid_row": null,
            "grid_template_areas": null,
            "grid_template_columns": null,
            "grid_template_rows": null,
            "height": null,
            "justify_content": null,
            "justify_items": null,
            "left": null,
            "margin": null,
            "max_height": null,
            "max_width": null,
            "min_height": null,
            "min_width": null,
            "object_fit": null,
            "object_position": null,
            "order": null,
            "overflow": null,
            "overflow_x": null,
            "overflow_y": null,
            "padding": null,
            "right": null,
            "top": null,
            "visibility": null,
            "width": null
          }
        },
        "06afdc5216a44d369a117aa69e590820": {
          "model_module": "@jupyter-widgets/controls",
          "model_name": "DescriptionStyleModel",
          "model_module_version": "1.5.0",
          "state": {
            "_model_module": "@jupyter-widgets/controls",
            "_model_module_version": "1.5.0",
            "_model_name": "DescriptionStyleModel",
            "_view_count": null,
            "_view_module": "@jupyter-widgets/base",
            "_view_module_version": "1.2.0",
            "_view_name": "StyleView",
            "description_width": ""
          }
        },
        "7b0b62415a194d218662a2997609f3da": {
          "model_module": "@jupyter-widgets/base",
          "model_name": "LayoutModel",
          "model_module_version": "1.2.0",
          "state": {
            "_model_module": "@jupyter-widgets/base",
            "_model_module_version": "1.2.0",
            "_model_name": "LayoutModel",
            "_view_count": null,
            "_view_module": "@jupyter-widgets/base",
            "_view_module_version": "1.2.0",
            "_view_name": "LayoutView",
            "align_content": null,
            "align_items": null,
            "align_self": null,
            "border": null,
            "bottom": null,
            "display": null,
            "flex": null,
            "flex_flow": null,
            "grid_area": null,
            "grid_auto_columns": null,
            "grid_auto_flow": null,
            "grid_auto_rows": null,
            "grid_column": null,
            "grid_gap": null,
            "grid_row": null,
            "grid_template_areas": null,
            "grid_template_columns": null,
            "grid_template_rows": null,
            "height": null,
            "justify_content": null,
            "justify_items": null,
            "left": null,
            "margin": null,
            "max_height": null,
            "max_width": null,
            "min_height": null,
            "min_width": null,
            "object_fit": null,
            "object_position": null,
            "order": null,
            "overflow": null,
            "overflow_x": null,
            "overflow_y": null,
            "padding": null,
            "right": null,
            "top": null,
            "visibility": null,
            "width": null
          }
        },
        "b6fa565f30184337bb20d42adc609f64": {
          "model_module": "@jupyter-widgets/controls",
          "model_name": "ProgressStyleModel",
          "model_module_version": "1.5.0",
          "state": {
            "_model_module": "@jupyter-widgets/controls",
            "_model_module_version": "1.5.0",
            "_model_name": "ProgressStyleModel",
            "_view_count": null,
            "_view_module": "@jupyter-widgets/base",
            "_view_module_version": "1.2.0",
            "_view_name": "StyleView",
            "bar_color": null,
            "description_width": ""
          }
        },
        "cdb5977da374485aa05e4723b2113cb5": {
          "model_module": "@jupyter-widgets/base",
          "model_name": "LayoutModel",
          "model_module_version": "1.2.0",
          "state": {
            "_model_module": "@jupyter-widgets/base",
            "_model_module_version": "1.2.0",
            "_model_name": "LayoutModel",
            "_view_count": null,
            "_view_module": "@jupyter-widgets/base",
            "_view_module_version": "1.2.0",
            "_view_name": "LayoutView",
            "align_content": null,
            "align_items": null,
            "align_self": null,
            "border": null,
            "bottom": null,
            "display": null,
            "flex": null,
            "flex_flow": null,
            "grid_area": null,
            "grid_auto_columns": null,
            "grid_auto_flow": null,
            "grid_auto_rows": null,
            "grid_column": null,
            "grid_gap": null,
            "grid_row": null,
            "grid_template_areas": null,
            "grid_template_columns": null,
            "grid_template_rows": null,
            "height": null,
            "justify_content": null,
            "justify_items": null,
            "left": null,
            "margin": null,
            "max_height": null,
            "max_width": null,
            "min_height": null,
            "min_width": null,
            "object_fit": null,
            "object_position": null,
            "order": null,
            "overflow": null,
            "overflow_x": null,
            "overflow_y": null,
            "padding": null,
            "right": null,
            "top": null,
            "visibility": null,
            "width": null
          }
        },
        "437fcbb33c4b43629064bea1583a0d85": {
          "model_module": "@jupyter-widgets/controls",
          "model_name": "DescriptionStyleModel",
          "model_module_version": "1.5.0",
          "state": {
            "_model_module": "@jupyter-widgets/controls",
            "_model_module_version": "1.5.0",
            "_model_name": "DescriptionStyleModel",
            "_view_count": null,
            "_view_module": "@jupyter-widgets/base",
            "_view_module_version": "1.2.0",
            "_view_name": "StyleView",
            "description_width": ""
          }
        },
        "5b9944d4a06f4cc1be54cd194f6fb930": {
          "model_module": "@jupyter-widgets/controls",
          "model_name": "HBoxModel",
          "model_module_version": "1.5.0",
          "state": {
            "_dom_classes": [],
            "_model_module": "@jupyter-widgets/controls",
            "_model_module_version": "1.5.0",
            "_model_name": "HBoxModel",
            "_view_count": null,
            "_view_module": "@jupyter-widgets/controls",
            "_view_module_version": "1.5.0",
            "_view_name": "HBoxView",
            "box_style": "",
            "children": [
              "IPY_MODEL_3288d2c82a084bb59cadc253e4effd90",
              "IPY_MODEL_a77eda29bcd745bea152e27702acaa46",
              "IPY_MODEL_aca334cfaae54d359be9f9bb22f130b7"
            ],
            "layout": "IPY_MODEL_fea9698d63ff4e4daece5cdfe7d3dea4"
          }
        },
        "3288d2c82a084bb59cadc253e4effd90": {
          "model_module": "@jupyter-widgets/controls",
          "model_name": "HTMLModel",
          "model_module_version": "1.5.0",
          "state": {
            "_dom_classes": [],
            "_model_module": "@jupyter-widgets/controls",
            "_model_module_version": "1.5.0",
            "_model_name": "HTMLModel",
            "_view_count": null,
            "_view_module": "@jupyter-widgets/controls",
            "_view_module_version": "1.5.0",
            "_view_name": "HTMLView",
            "description": "",
            "description_tooltip": null,
            "layout": "IPY_MODEL_066b73d8475e49e4bcabcf0271bbd9b3",
            "placeholder": "​",
            "style": "IPY_MODEL_54e7c92010a744e2b9142aa44482c485",
            "value": "Downloading (…)/main/tokenizer.json: 100%"
          }
        },
        "a77eda29bcd745bea152e27702acaa46": {
          "model_module": "@jupyter-widgets/controls",
          "model_name": "FloatProgressModel",
          "model_module_version": "1.5.0",
          "state": {
            "_dom_classes": [],
            "_model_module": "@jupyter-widgets/controls",
            "_model_module_version": "1.5.0",
            "_model_name": "FloatProgressModel",
            "_view_count": null,
            "_view_module": "@jupyter-widgets/controls",
            "_view_module_version": "1.5.0",
            "_view_name": "ProgressView",
            "bar_style": "success",
            "description": "",
            "description_tooltip": null,
            "layout": "IPY_MODEL_ede7ecc1414d4aed99ca34a1bb579d2e",
            "max": 1355863,
            "min": 0,
            "orientation": "horizontal",
            "style": "IPY_MODEL_db03c958ddb3480d8d1e0e4e1370f70a",
            "value": 1355863
          }
        },
        "aca334cfaae54d359be9f9bb22f130b7": {
          "model_module": "@jupyter-widgets/controls",
          "model_name": "HTMLModel",
          "model_module_version": "1.5.0",
          "state": {
            "_dom_classes": [],
            "_model_module": "@jupyter-widgets/controls",
            "_model_module_version": "1.5.0",
            "_model_name": "HTMLModel",
            "_view_count": null,
            "_view_module": "@jupyter-widgets/controls",
            "_view_module_version": "1.5.0",
            "_view_name": "HTMLView",
            "description": "",
            "description_tooltip": null,
            "layout": "IPY_MODEL_ad05d90ea1a14132854e32e731c627a4",
            "placeholder": "​",
            "style": "IPY_MODEL_180ed44022fe4c70aaa4f71d41c3184e",
            "value": " 1.36M/1.36M [00:00&lt;00:00, 13.5MB/s]"
          }
        },
        "fea9698d63ff4e4daece5cdfe7d3dea4": {
          "model_module": "@jupyter-widgets/base",
          "model_name": "LayoutModel",
          "model_module_version": "1.2.0",
          "state": {
            "_model_module": "@jupyter-widgets/base",
            "_model_module_version": "1.2.0",
            "_model_name": "LayoutModel",
            "_view_count": null,
            "_view_module": "@jupyter-widgets/base",
            "_view_module_version": "1.2.0",
            "_view_name": "LayoutView",
            "align_content": null,
            "align_items": null,
            "align_self": null,
            "border": null,
            "bottom": null,
            "display": null,
            "flex": null,
            "flex_flow": null,
            "grid_area": null,
            "grid_auto_columns": null,
            "grid_auto_flow": null,
            "grid_auto_rows": null,
            "grid_column": null,
            "grid_gap": null,
            "grid_row": null,
            "grid_template_areas": null,
            "grid_template_columns": null,
            "grid_template_rows": null,
            "height": null,
            "justify_content": null,
            "justify_items": null,
            "left": null,
            "margin": null,
            "max_height": null,
            "max_width": null,
            "min_height": null,
            "min_width": null,
            "object_fit": null,
            "object_position": null,
            "order": null,
            "overflow": null,
            "overflow_x": null,
            "overflow_y": null,
            "padding": null,
            "right": null,
            "top": null,
            "visibility": null,
            "width": null
          }
        },
        "066b73d8475e49e4bcabcf0271bbd9b3": {
          "model_module": "@jupyter-widgets/base",
          "model_name": "LayoutModel",
          "model_module_version": "1.2.0",
          "state": {
            "_model_module": "@jupyter-widgets/base",
            "_model_module_version": "1.2.0",
            "_model_name": "LayoutModel",
            "_view_count": null,
            "_view_module": "@jupyter-widgets/base",
            "_view_module_version": "1.2.0",
            "_view_name": "LayoutView",
            "align_content": null,
            "align_items": null,
            "align_self": null,
            "border": null,
            "bottom": null,
            "display": null,
            "flex": null,
            "flex_flow": null,
            "grid_area": null,
            "grid_auto_columns": null,
            "grid_auto_flow": null,
            "grid_auto_rows": null,
            "grid_column": null,
            "grid_gap": null,
            "grid_row": null,
            "grid_template_areas": null,
            "grid_template_columns": null,
            "grid_template_rows": null,
            "height": null,
            "justify_content": null,
            "justify_items": null,
            "left": null,
            "margin": null,
            "max_height": null,
            "max_width": null,
            "min_height": null,
            "min_width": null,
            "object_fit": null,
            "object_position": null,
            "order": null,
            "overflow": null,
            "overflow_x": null,
            "overflow_y": null,
            "padding": null,
            "right": null,
            "top": null,
            "visibility": null,
            "width": null
          }
        },
        "54e7c92010a744e2b9142aa44482c485": {
          "model_module": "@jupyter-widgets/controls",
          "model_name": "DescriptionStyleModel",
          "model_module_version": "1.5.0",
          "state": {
            "_model_module": "@jupyter-widgets/controls",
            "_model_module_version": "1.5.0",
            "_model_name": "DescriptionStyleModel",
            "_view_count": null,
            "_view_module": "@jupyter-widgets/base",
            "_view_module_version": "1.2.0",
            "_view_name": "StyleView",
            "description_width": ""
          }
        },
        "ede7ecc1414d4aed99ca34a1bb579d2e": {
          "model_module": "@jupyter-widgets/base",
          "model_name": "LayoutModel",
          "model_module_version": "1.2.0",
          "state": {
            "_model_module": "@jupyter-widgets/base",
            "_model_module_version": "1.2.0",
            "_model_name": "LayoutModel",
            "_view_count": null,
            "_view_module": "@jupyter-widgets/base",
            "_view_module_version": "1.2.0",
            "_view_name": "LayoutView",
            "align_content": null,
            "align_items": null,
            "align_self": null,
            "border": null,
            "bottom": null,
            "display": null,
            "flex": null,
            "flex_flow": null,
            "grid_area": null,
            "grid_auto_columns": null,
            "grid_auto_flow": null,
            "grid_auto_rows": null,
            "grid_column": null,
            "grid_gap": null,
            "grid_row": null,
            "grid_template_areas": null,
            "grid_template_columns": null,
            "grid_template_rows": null,
            "height": null,
            "justify_content": null,
            "justify_items": null,
            "left": null,
            "margin": null,
            "max_height": null,
            "max_width": null,
            "min_height": null,
            "min_width": null,
            "object_fit": null,
            "object_position": null,
            "order": null,
            "overflow": null,
            "overflow_x": null,
            "overflow_y": null,
            "padding": null,
            "right": null,
            "top": null,
            "visibility": null,
            "width": null
          }
        },
        "db03c958ddb3480d8d1e0e4e1370f70a": {
          "model_module": "@jupyter-widgets/controls",
          "model_name": "ProgressStyleModel",
          "model_module_version": "1.5.0",
          "state": {
            "_model_module": "@jupyter-widgets/controls",
            "_model_module_version": "1.5.0",
            "_model_name": "ProgressStyleModel",
            "_view_count": null,
            "_view_module": "@jupyter-widgets/base",
            "_view_module_version": "1.2.0",
            "_view_name": "StyleView",
            "bar_color": null,
            "description_width": ""
          }
        },
        "ad05d90ea1a14132854e32e731c627a4": {
          "model_module": "@jupyter-widgets/base",
          "model_name": "LayoutModel",
          "model_module_version": "1.2.0",
          "state": {
            "_model_module": "@jupyter-widgets/base",
            "_model_module_version": "1.2.0",
            "_model_name": "LayoutModel",
            "_view_count": null,
            "_view_module": "@jupyter-widgets/base",
            "_view_module_version": "1.2.0",
            "_view_name": "LayoutView",
            "align_content": null,
            "align_items": null,
            "align_self": null,
            "border": null,
            "bottom": null,
            "display": null,
            "flex": null,
            "flex_flow": null,
            "grid_area": null,
            "grid_auto_columns": null,
            "grid_auto_flow": null,
            "grid_auto_rows": null,
            "grid_column": null,
            "grid_gap": null,
            "grid_row": null,
            "grid_template_areas": null,
            "grid_template_columns": null,
            "grid_template_rows": null,
            "height": null,
            "justify_content": null,
            "justify_items": null,
            "left": null,
            "margin": null,
            "max_height": null,
            "max_width": null,
            "min_height": null,
            "min_width": null,
            "object_fit": null,
            "object_position": null,
            "order": null,
            "overflow": null,
            "overflow_x": null,
            "overflow_y": null,
            "padding": null,
            "right": null,
            "top": null,
            "visibility": null,
            "width": null
          }
        },
        "180ed44022fe4c70aaa4f71d41c3184e": {
          "model_module": "@jupyter-widgets/controls",
          "model_name": "DescriptionStyleModel",
          "model_module_version": "1.5.0",
          "state": {
            "_model_module": "@jupyter-widgets/controls",
            "_model_module_version": "1.5.0",
            "_model_name": "DescriptionStyleModel",
            "_view_count": null,
            "_view_module": "@jupyter-widgets/base",
            "_view_module_version": "1.2.0",
            "_view_name": "StyleView",
            "description_width": ""
          }
        }
      }
    }
  },
  "cells": [
    {
      "cell_type": "markdown",
      "metadata": {
        "id": "view-in-github",
        "colab_type": "text"
      },
      "source": [
        "<a href=\"https://colab.research.google.com/github/aneeshd27/Universal-Subtitle-Companion/blob/main/Subtitle_Summarization_using_BERT.ipynb\" target=\"_parent\"><img src=\"https://colab.research.google.com/assets/colab-badge.svg\" alt=\"Open In Colab\"/></a>"
      ]
    },
    {
      "cell_type": "code",
      "execution_count": 1,
      "metadata": {
        "colab": {
          "base_uri": "https://localhost:8080/"
        },
        "id": "thYTBzQglNeq",
        "outputId": "c9c87516-cf29-4e7d-e9a3-1d7706f9dd35"
      },
      "outputs": [
        {
          "output_type": "stream",
          "name": "stdout",
          "text": [
            "\u001b[2K     \u001b[90m━━━━━━━━━━━━━━━━━━━━━━━━━━━━━━━━━━━━━━━━\u001b[0m \u001b[32m7.5/7.5 MB\u001b[0m \u001b[31m19.6 MB/s\u001b[0m eta \u001b[36m0:00:00\u001b[0m\n",
            "\u001b[2K     \u001b[90m━━━━━━━━━━━━━━━━━━━━━━━━━━━━━━━━━━━━━━\u001b[0m \u001b[32m268.8/268.8 kB\u001b[0m \u001b[31m25.6 MB/s\u001b[0m eta \u001b[36m0:00:00\u001b[0m\n",
            "\u001b[2K     \u001b[90m━━━━━━━━━━━━━━━━━━━━━━━━━━━━━━━━━━━━━━━━\u001b[0m \u001b[32m7.8/7.8 MB\u001b[0m \u001b[31m38.7 MB/s\u001b[0m eta \u001b[36m0:00:00\u001b[0m\n",
            "\u001b[2K     \u001b[90m━━━━━━━━━━━━━━━━━━━━━━━━━━━━━━━━━━━━━━━━\u001b[0m \u001b[32m1.3/1.3 MB\u001b[0m \u001b[31m41.8 MB/s\u001b[0m eta \u001b[36m0:00:00\u001b[0m\n",
            "\u001b[?25h"
          ]
        }
      ],
      "source": [
        "!pip install -q transformers"
      ]
    },
    {
      "cell_type": "code",
      "source": [
        "from transformers import pipeline"
      ],
      "metadata": {
        "id": "z0Gzan1qlSsh"
      },
      "execution_count": 2,
      "outputs": []
    },
    {
      "cell_type": "code",
      "source": [
        "!pip install -q youtube_transcript_api"
      ],
      "metadata": {
        "id": "SzdtkDOElpLv"
      },
      "execution_count": 3,
      "outputs": []
    },
    {
      "cell_type": "code",
      "source": [
        "from youtube_transcript_api import YouTubeTranscriptApi"
      ],
      "metadata": {
        "id": "_uuAJAtal0YQ"
      },
      "execution_count": 11,
      "outputs": []
    },
    {
      "cell_type": "code",
      "source": [
        "youtube_video=\"https://www.youtube.com/watch?v=CaEHViJgYbc\"\n",
        "video_id=youtube_video.split(\"=\")[1]\n",
        "print(video_id)"
      ],
      "metadata": {
        "colab": {
          "base_uri": "https://localhost:8080/"
        },
        "id": "2xromGHKnO8t",
        "outputId": "02dd368c-abb6-4145-cea7-bb703bf1b8e9"
      },
      "execution_count": 19,
      "outputs": [
        {
          "output_type": "stream",
          "name": "stdout",
          "text": [
            "CaEHViJgYbc\n"
          ]
        }
      ]
    },
    {
      "cell_type": "code",
      "source": [
        "transcript_list=YouTubeTranscriptApi.list_transcripts(video_id)\n",
        "print(transcript_list)"
      ],
      "metadata": {
        "colab": {
          "base_uri": "https://localhost:8080/"
        },
        "id": "y7SWKn2YmMC1",
        "outputId": "6d7671af-278a-4b43-93bd-cbfbaf71103e"
      },
      "execution_count": 20,
      "outputs": [
        {
          "output_type": "stream",
          "name": "stdout",
          "text": [
            "For this video (CaEHViJgYbc) transcripts are available in the following languages:\n",
            "\n",
            "(MANUALLY CREATED)\n",
            "None\n",
            "\n",
            "(GENERATED)\n",
            " - en (\"English (auto-generated)\")[TRANSLATABLE]\n",
            "\n",
            "(TRANSLATION LANGUAGES)\n",
            " - af (\"Afrikaans\")\n",
            " - ak (\"Akan\")\n",
            " - sq (\"Albanian\")\n",
            " - am (\"Amharic\")\n",
            " - ar (\"Arabic\")\n",
            " - hy (\"Armenian\")\n",
            " - as (\"Assamese\")\n",
            " - ay (\"Aymara\")\n",
            " - az (\"Azerbaijani\")\n",
            " - bn (\"Bangla\")\n",
            " - eu (\"Basque\")\n",
            " - be (\"Belarusian\")\n",
            " - bho (\"Bhojpuri\")\n",
            " - bs (\"Bosnian\")\n",
            " - bg (\"Bulgarian\")\n",
            " - my (\"Burmese\")\n",
            " - ca (\"Catalan\")\n",
            " - ceb (\"Cebuano\")\n",
            " - zh-Hans (\"Chinese (Simplified)\")\n",
            " - zh-Hant (\"Chinese (Traditional)\")\n",
            " - co (\"Corsican\")\n",
            " - hr (\"Croatian\")\n",
            " - cs (\"Czech\")\n",
            " - da (\"Danish\")\n",
            " - dv (\"Divehi\")\n",
            " - nl (\"Dutch\")\n",
            " - en (\"English\")\n",
            " - eo (\"Esperanto\")\n",
            " - et (\"Estonian\")\n",
            " - ee (\"Ewe\")\n",
            " - fil (\"Filipino\")\n",
            " - fi (\"Finnish\")\n",
            " - fr (\"French\")\n",
            " - gl (\"Galician\")\n",
            " - lg (\"Ganda\")\n",
            " - ka (\"Georgian\")\n",
            " - de (\"German\")\n",
            " - el (\"Greek\")\n",
            " - gn (\"Guarani\")\n",
            " - gu (\"Gujarati\")\n",
            " - ht (\"Haitian Creole\")\n",
            " - ha (\"Hausa\")\n",
            " - haw (\"Hawaiian\")\n",
            " - iw (\"Hebrew\")\n",
            " - hi (\"Hindi\")\n",
            " - hmn (\"Hmong\")\n",
            " - hu (\"Hungarian\")\n",
            " - is (\"Icelandic\")\n",
            " - ig (\"Igbo\")\n",
            " - id (\"Indonesian\")\n",
            " - ga (\"Irish\")\n",
            " - it (\"Italian\")\n",
            " - ja (\"Japanese\")\n",
            " - jv (\"Javanese\")\n",
            " - kn (\"Kannada\")\n",
            " - kk (\"Kazakh\")\n",
            " - km (\"Khmer\")\n",
            " - rw (\"Kinyarwanda\")\n",
            " - ko (\"Korean\")\n",
            " - kri (\"Krio\")\n",
            " - ku (\"Kurdish\")\n",
            " - ky (\"Kyrgyz\")\n",
            " - lo (\"Lao\")\n",
            " - la (\"Latin\")\n",
            " - lv (\"Latvian\")\n",
            " - ln (\"Lingala\")\n",
            " - lt (\"Lithuanian\")\n",
            " - lb (\"Luxembourgish\")\n",
            " - mk (\"Macedonian\")\n",
            " - mg (\"Malagasy\")\n",
            " - ms (\"Malay\")\n",
            " - ml (\"Malayalam\")\n",
            " - mt (\"Maltese\")\n",
            " - mi (\"Māori\")\n",
            " - mr (\"Marathi\")\n",
            " - mn (\"Mongolian\")\n",
            " - ne (\"Nepali\")\n",
            " - nso (\"Northern Sotho\")\n",
            " - no (\"Norwegian\")\n",
            " - ny (\"Nyanja\")\n",
            " - or (\"Odia\")\n",
            " - om (\"Oromo\")\n",
            " - ps (\"Pashto\")\n",
            " - fa (\"Persian\")\n",
            " - pl (\"Polish\")\n",
            " - pt (\"Portuguese\")\n",
            " - pa (\"Punjabi\")\n",
            " - qu (\"Quechua\")\n",
            " - ro (\"Romanian\")\n",
            " - ru (\"Russian\")\n",
            " - sm (\"Samoan\")\n",
            " - sa (\"Sanskrit\")\n",
            " - gd (\"Scottish Gaelic\")\n",
            " - sr (\"Serbian\")\n",
            " - sn (\"Shona\")\n",
            " - sd (\"Sindhi\")\n",
            " - si (\"Sinhala\")\n",
            " - sk (\"Slovak\")\n",
            " - sl (\"Slovenian\")\n",
            " - so (\"Somali\")\n",
            " - st (\"Southern Sotho\")\n",
            " - es (\"Spanish\")\n",
            " - su (\"Sundanese\")\n",
            " - sw (\"Swahili\")\n",
            " - sv (\"Swedish\")\n",
            " - tg (\"Tajik\")\n",
            " - ta (\"Tamil\")\n",
            " - tt (\"Tatar\")\n",
            " - te (\"Telugu\")\n",
            " - th (\"Thai\")\n",
            " - ti (\"Tigrinya\")\n",
            " - ts (\"Tsonga\")\n",
            " - tr (\"Turkish\")\n",
            " - tk (\"Turkmen\")\n",
            " - uk (\"Ukrainian\")\n",
            " - ur (\"Urdu\")\n",
            " - ug (\"Uyghur\")\n",
            " - uz (\"Uzbek\")\n",
            " - vi (\"Vietnamese\")\n",
            " - cy (\"Welsh\")\n",
            " - fy (\"Western Frisian\")\n",
            " - xh (\"Xhosa\")\n",
            " - yi (\"Yiddish\")\n",
            " - yo (\"Yoruba\")\n",
            " - zu (\"Zulu\")\n"
          ]
        }
      ]
    },
    {
      "cell_type": "code",
      "source": [
        "script=YouTubeTranscriptApi.get_transcript(video_id)\n",
        "print(script)"
      ],
      "metadata": {
        "colab": {
          "base_uri": "https://localhost:8080/"
        },
        "id": "7MI1N2Hkn101",
        "outputId": "56e226e4-13d4-4428-a784-5d3ecaa6ad39"
      },
      "execution_count": 22,
      "outputs": [
        {
          "output_type": "stream",
          "name": "stdout",
          "text": [
            "[{'text': 'hey hey everybody this is Larry this is', 'start': 0.799, 'duration': 4.801}, {'text': 'day three of the September Leal day', 'start': 2.879, 'duration': 4.601}, {'text': 'challenge hit the like button hit the', 'start': 5.6, 'duration': 3.64}, {'text': 'Subscribe but join me on Discord let me', 'start': 7.48, 'duration': 3.92}, {'text': \"know what you think about today's Farm I\", 'start': 9.24, 'duration': 3.399}, {'text': 'not going to lie', 'start': 11.4, 'duration': 3.279}, {'text': 'I I', 'start': 12.639, 'duration': 4.361}, {'text': \"um I'm a little bit late on this one I\", 'start': 14.679, 'duration': 5.801}, {'text': 'totally just almost forgot because uh I', 'start': 17.0, 'duration': 5.16}, {'text': 'was focused on the contest yesterday and', 'start': 20.48, 'duration': 4.48}, {'text': 'then I got still kind of struggled on', 'start': 22.16, 'duration': 5.4}, {'text': 'the contest anyway so that Focus was not', 'start': 24.96, 'duration': 6.439}, {'text': \"helped anyway today's f is 62 unique\", 'start': 27.56, 'duration': 9.2}, {'text': \"paths uh okay so let's take a\", 'start': 31.399, 'duration': 5.361}, {'text': 'look all right so yeah I mean this is', 'start': 39.0, 'duration': 5.48}, {'text': 'pretty standard there are two ways two', 'start': 41.76, 'duration': 5.56}, {'text': 'main ways to do it', 'start': 44.48, 'duration': 5.399}, {'text': 'um you know one is just knowing the math', 'start': 47.32, 'duration': 4.36}, {'text': 'and knowing this problem this is a', 'start': 49.879, 'duration': 5.281}, {'text': 'almost to standard e so this is going to', 'start': 51.68, 'duration': 4.679}, {'text': 'be', 'start': 55.16, 'duration': 4.32}, {'text': 'like uh binomial distribution type thing', 'start': 56.359, 'duration': 6.321}, {'text': 'or bin bomal binomial something', 'start': 59.48, 'duration': 7.08}, {'text': 'basically the formula for binomial uh', 'start': 62.68, 'duration': 7.88}, {'text': 'like uh what it given M and N is', 'start': 66.56, 'duration': 7.199}, {'text': 'probably going to be like m+ n minus one', 'start': 70.56, 'duration': 6.199}, {'text': 'choose M or something like this uh', 'start': 73.759, 'duration': 4.481}, {'text': \"that's just off my head I I probably\", 'start': 76.759, 'duration': 3.081}, {'text': 'have to think about it a little bit get', 'start': 78.24, 'duration': 3.839}, {'text': 'it precise uh we can also practice', 'start': 79.84, 'duration': 4.639}, {'text': 'dynamic programming of course uh but I', 'start': 82.079, 'duration': 4.161}, {'text': 'mean both of them', 'start': 84.479, 'duration': 5.441}, {'text': 'is kind of the same idea right and for', 'start': 86.24, 'duration': 5.8}, {'text': 'bomal um you know you can think about as', 'start': 89.92, 'duration': 6.64}, {'text': 'the Pascal triangle and the Pascal', 'start': 92.04, 'duration': 4.52}, {'text': 'triangle uh and for the Pascal triangle', 'start': 98.36, 'duration': 6.52}, {'text': 'uh yeah it is just basically the form I', 'start': 102.04, 'duration': 5.24}, {'text': 'mean you can you can think of it both', 'start': 104.88, 'duration': 5.879}, {'text': 'ways but as the Pascal triangle and what', 'start': 107.28, 'duration': 5.479}, {'text': 'I mean by that is', 'start': 110.759, 'duration': 3.801}, {'text': 'that', 'start': 112.759, 'duration': 3.921}, {'text': 'um if you know the Pascal triangle you', 'start': 114.56, 'duration': 4.159}, {'text': 'just know the formula but it probably is', 'start': 116.68, 'duration': 3.68}, {'text': 'more accurate to say is the other way', 'start': 118.719, 'duration': 3.76}, {'text': 'around and what I mean by that is that', 'start': 120.36, 'duration': 3.799}, {'text': 'you notice the formula and like oh this', 'start': 122.479, 'duration': 4.121}, {'text': 'formula is clearly just uh Pascal', 'start': 124.159, 'duration': 4.44}, {'text': 'triangle and what I mean by that is that', 'start': 126.6, 'duration': 3.8}, {'text': 'for every', 'start': 128.599, 'duration': 3.441}, {'text': 'cell', 'start': 130.4, 'duration': 4.919}, {'text': 'uh oh there only', 'start': 132.04, 'duration': 5.72}, {'text': '100 we could calculate this right so', 'start': 135.319, 'duration': 4.521}, {'text': 'maybe we have a count we have an X and', 'start': 137.76, 'duration': 6.44}, {'text': \"we have a y and then for it um and we'll\", 'start': 139.84, 'duration': 7.679}, {'text': 'count backwards so if', 'start': 144.2, 'duration': 6.36}, {'text': \"x so let's say total number of paths is\", 'start': 147.519, 'duration': 4.121}, {'text': 'equal', 'start': 150.56, 'duration': 3.08}, {'text': 'z', 'start': 151.64, 'duration': 5.28}, {'text': \"um let's just say if x is equal 0 and Y\", 'start': 153.64, 'duration': 6.04}, {'text': 'is equal 0 we return one way you that', 'start': 156.92, 'duration': 6.0}, {'text': \"means that you're done uh total is equal\", 'start': 159.68, 'duration': 6.32}, {'text': 'Z and then if x is greater than zero', 'start': 162.92, 'duration': 6.84}, {'text': 'then you go oh X is so then you go up so', 'start': 166.0, 'duration': 8.4}, {'text': 'then we add it to count x -1 Y and then', 'start': 169.76, 'duration': 6.559}, {'text': 'if Y is greater than zero you know you', 'start': 174.4, 'duration': 5.479}, {'text': 'go to the left uh or you go from the', 'start': 176.319, 'duration': 5.161}, {'text': \"left I guess maybe that's better way I'm\", 'start': 179.879, 'duration': 4.321}, {'text': \"saying it so then here and that's pretty\", 'start': 181.48, 'duration': 4.119}, {'text': \"much it and here it said that you don't\", 'start': 184.2, 'duration': 4.399}, {'text': \"have to mod um so I guess we're not\", 'start': 185.599, 'duration': 5.601}, {'text': 'going to count of', 'start': 188.599, 'duration': 5.92}, {'text': 'MN and of course you know you have to', 'start': 191.2, 'duration': 6.119}, {'text': 'memorize because this branches out twice', 'start': 194.519, 'duration': 5.561}, {'text': \"every time so that's going to be way sad\", 'start': 197.319, 'duration': 5.2}, {'text': 'and it gets you know let me double check', 'start': 200.08, 'duration': 4.56}, {'text': 'this real quick I did I miss read this', 'start': 202.519, 'duration': 4.561}, {'text': 'why why is this so', 'start': 204.64, 'duration': 4.04}, {'text': 'long', 'start': 207.08, 'duration': 4.6}, {'text': 'uh', 'start': 208.68, 'duration': 3.0}, {'text': 'oh uh the corner is M uh m minus1 n', 'start': 220.959, 'duration': 5.56}, {'text': 'minus one', 'start': 224.72, 'duration': 4.799}, {'text': 'okay', 'start': 226.519, 'duration': 3.0}, {'text': 'oops all right there you go so that', 'start': 233.28, 'duration': 4.799}, {'text': 'looks good now we should do the caching', 'start': 235.439, 'duration': 9.321}, {'text': 'um you know X goes to 0 to nus1 Y goes', 'start': 238.079, 'duration': 12.8}, {'text': \"to - one so let's do that right so has\", 'start': 244.76, 'duration': 6.119}, {'text': 'cash', 'start': 266.04, 'duration': 5.56}, {'text': 'right', 'start': 268.6, 'duration': 3.0}, {'text': 'kind of standard stuff', 'start': 273.6, 'duration': 6.72}, {'text': 'so yeah', 'start': 275.84, 'duration': 4.48}, {'text': \"oops and that's pretty much it I think\", 'start': 281.759, 'duration': 3.88}, {'text': \"let's give a\", 'start': 284.68, 'duration': 5.84}, {'text': \"submit uh wow solved this I don't\", 'start': 285.639, 'duration': 4.881}, {'text': \"know fin I've solved this problem six\", 'start': 290.96, 'duration': 4.64}, {'text': 'times which is a', 'start': 293.4, 'duration': 4.88}, {'text': \"lot so you is for me it's doing more\", 'start': 295.6, 'duration': 4.48}, {'text': 'standard than usual so hopefully', 'start': 298.28, 'duration': 3.72}, {'text': \"you you enjoyed today's video I don't\", 'start': 300.08, 'duration': 4.32}, {'text': 'have a quick update just kind of tired', 'start': 302.0, 'duration': 5.84}, {'text': \"just woke up um don't have any\", 'start': 304.4, 'duration': 6.04}, {'text': \"updates uh yeah and I guess if you're\", 'start': 307.84, 'duration': 4.16}, {'text': 'struggling you look at one of the others', 'start': 310.44, 'duration': 3.72}, {'text': \"five videos uh that's all I have for\", 'start': 312.0, 'duration': 4.56}, {'text': 'today have a great Labor Day weekend the', 'start': 314.16, 'duration': 5.56}, {'text': 'rest of your uh if well you celebrate it', 'start': 316.56, 'duration': 6.16}, {'text': \"or you celebrate with labor I don't know\", 'start': 319.72, 'duration': 6.0}, {'text': \"that's all I have for now uh stay good\", 'start': 322.72, 'duration': 4.88}, {'text': \"stay healthy to good mental health I'll\", 'start': 325.72, 'duration': 5.759}, {'text': 'see yall later and take care bye-bye', 'start': 327.6, 'duration': 3.879}]\n"
          ]
        }
      ]
    },
    {
      "cell_type": "code",
      "source": [
        "subtitles=\"\"\n",
        "for i in script:\n",
        "  subtitles+=' '+i['text']\n",
        "\n",
        "\n",
        "print(len(subtitles))"
      ],
      "metadata": {
        "colab": {
          "base_uri": "https://localhost:8080/"
        },
        "id": "pQrsNz1XsfLf",
        "outputId": "92e9c70b-b580-4457-c90f-1a2c2db6a167"
      },
      "execution_count": 41,
      "outputs": [
        {
          "output_type": "stream",
          "name": "stdout",
          "text": [
            "3512\n"
          ]
        }
      ]
    },
    {
      "cell_type": "code",
      "source": [
        "print(subtitles)"
      ],
      "metadata": {
        "colab": {
          "base_uri": "https://localhost:8080/"
        },
        "id": "KsAggvWTtQLJ",
        "outputId": "af04dd62-78de-40f8-d776-79e620fdf28b"
      },
      "execution_count": 42,
      "outputs": [
        {
          "output_type": "stream",
          "name": "stdout",
          "text": [
            " hey hey everybody this is Larry this is day three of the September Leal day challenge hit the like button hit the Subscribe but join me on Discord let me know what you think about today's Farm I not going to lie I I um I'm a little bit late on this one I totally just almost forgot because uh I was focused on the contest yesterday and then I got still kind of struggled on the contest anyway so that Focus was not helped anyway today's f is 62 unique paths uh okay so let's take a look all right so yeah I mean this is pretty standard there are two ways two main ways to do it um you know one is just knowing the math and knowing this problem this is a almost to standard e so this is going to be like uh binomial distribution type thing or bin bomal binomial something basically the formula for binomial uh like uh what it given M and N is probably going to be like m+ n minus one choose M or something like this uh that's just off my head I I probably have to think about it a little bit get it precise uh we can also practice dynamic programming of course uh but I mean both of them is kind of the same idea right and for bomal um you know you can think about as the Pascal triangle and the Pascal triangle uh and for the Pascal triangle uh yeah it is just basically the form I mean you can you can think of it both ways but as the Pascal triangle and what I mean by that is that um if you know the Pascal triangle you just know the formula but it probably is more accurate to say is the other way around and what I mean by that is that you notice the formula and like oh this formula is clearly just uh Pascal triangle and what I mean by that is that for every cell uh oh there only 100 we could calculate this right so maybe we have a count we have an X and we have a y and then for it um and we'll count backwards so if x so let's say total number of paths is equal z um let's just say if x is equal 0 and Y is equal 0 we return one way you that means that you're done uh total is equal Z and then if x is greater than zero then you go oh X is so then you go up so then we add it to count x -1 Y and then if Y is greater than zero you know you go to the left uh or you go from the left I guess maybe that's better way I'm saying it so then here and that's pretty much it and here it said that you don't have to mod um so I guess we're not going to count of MN and of course you know you have to memorize because this branches out twice every time so that's going to be way sad and it gets you know let me double check this real quick I did I miss read this why why is this so long uh oh uh the corner is M uh m minus1 n minus one okay oops all right there you go so that looks good now we should do the caching um you know X goes to 0 to nus1 Y goes to - one so let's do that right so has cash right kind of standard stuff so yeah oops and that's pretty much it I think let's give a submit uh wow solved this I don't know fin I've solved this problem six times which is a lot so you is for me it's doing more standard than usual so hopefully you you enjoyed today's video I don't have a quick update just kind of tired just woke up um don't have any updates uh yeah and I guess if you're struggling you look at one of the others five videos uh that's all I have for today have a great Labor Day weekend the rest of your uh if well you celebrate it or you celebrate with labor I don't know that's all I have for now uh stay good stay healthy to good mental health I'll see yall later and take care bye-bye\n"
          ]
        }
      ]
    },
    {
      "cell_type": "markdown",
      "source": [
        "##Write subtitles in file using transcript formatters"
      ],
      "metadata": {
        "id": "JD4VJTsqtkx0"
      }
    },
    {
      "cell_type": "code",
      "source": [
        "from youtube_transcript_api.formatters import TextFormatter\n",
        "from youtube_transcript_api.formatters import SRTFormatter"
      ],
      "metadata": {
        "id": "LpuMQFUAoqF8"
      },
      "execution_count": 27,
      "outputs": []
    },
    {
      "cell_type": "code",
      "source": [
        "formatter=TextFormatter()\n",
        "text_formatter=formatter.format_transcript(script)\n",
        "with open(\"script.txt\",\"w\",encoding=\"utf-8\") as text_file:\n",
        "  text_file.write(text_formatter)"
      ],
      "metadata": {
        "id": "-eZff7nmo_21"
      },
      "execution_count": 30,
      "outputs": []
    },
    {
      "cell_type": "code",
      "source": [
        "# Specify the file path\n",
        "file_path = \"script.txt\"\n",
        "\n",
        "# Open the file for reading\n",
        "try:\n",
        "    with open(file_path, 'r') as file:\n",
        "        # Read the content of the file into a string\n",
        "        file_content = file.read()\n",
        "\n",
        "    # Now, file_content contains the contents of the file as a string\n",
        "    print(file_content)\n",
        "\n",
        "except FileNotFoundError:\n",
        "    print(f\"The file '{file_path}' does not exist.\")\n",
        "\n",
        "except Exception as e:\n",
        "    print(f\"An error occurred: {str(e)}\")\n"
      ],
      "metadata": {
        "colab": {
          "base_uri": "https://localhost:8080/"
        },
        "id": "05O18ixZq9W2",
        "outputId": "17f6d502-814a-443c-fa18-e401731e0bb2"
      },
      "execution_count": 31,
      "outputs": [
        {
          "output_type": "stream",
          "name": "stdout",
          "text": [
            "hey hey everybody this is Larry this is\n",
            "day three of the September Leal day\n",
            "challenge hit the like button hit the\n",
            "Subscribe but join me on Discord let me\n",
            "know what you think about today's Farm I\n",
            "not going to lie\n",
            "I I\n",
            "um I'm a little bit late on this one I\n",
            "totally just almost forgot because uh I\n",
            "was focused on the contest yesterday and\n",
            "then I got still kind of struggled on\n",
            "the contest anyway so that Focus was not\n",
            "helped anyway today's f is 62 unique\n",
            "paths uh okay so let's take a\n",
            "look all right so yeah I mean this is\n",
            "pretty standard there are two ways two\n",
            "main ways to do it\n",
            "um you know one is just knowing the math\n",
            "and knowing this problem this is a\n",
            "almost to standard e so this is going to\n",
            "be\n",
            "like uh binomial distribution type thing\n",
            "or bin bomal binomial something\n",
            "basically the formula for binomial uh\n",
            "like uh what it given M and N is\n",
            "probably going to be like m+ n minus one\n",
            "choose M or something like this uh\n",
            "that's just off my head I I probably\n",
            "have to think about it a little bit get\n",
            "it precise uh we can also practice\n",
            "dynamic programming of course uh but I\n",
            "mean both of them\n",
            "is kind of the same idea right and for\n",
            "bomal um you know you can think about as\n",
            "the Pascal triangle and the Pascal\n",
            "triangle uh and for the Pascal triangle\n",
            "uh yeah it is just basically the form I\n",
            "mean you can you can think of it both\n",
            "ways but as the Pascal triangle and what\n",
            "I mean by that is\n",
            "that\n",
            "um if you know the Pascal triangle you\n",
            "just know the formula but it probably is\n",
            "more accurate to say is the other way\n",
            "around and what I mean by that is that\n",
            "you notice the formula and like oh this\n",
            "formula is clearly just uh Pascal\n",
            "triangle and what I mean by that is that\n",
            "for every\n",
            "cell\n",
            "uh oh there only\n",
            "100 we could calculate this right so\n",
            "maybe we have a count we have an X and\n",
            "we have a y and then for it um and we'll\n",
            "count backwards so if\n",
            "x so let's say total number of paths is\n",
            "equal\n",
            "z\n",
            "um let's just say if x is equal 0 and Y\n",
            "is equal 0 we return one way you that\n",
            "means that you're done uh total is equal\n",
            "Z and then if x is greater than zero\n",
            "then you go oh X is so then you go up so\n",
            "then we add it to count x -1 Y and then\n",
            "if Y is greater than zero you know you\n",
            "go to the left uh or you go from the\n",
            "left I guess maybe that's better way I'm\n",
            "saying it so then here and that's pretty\n",
            "much it and here it said that you don't\n",
            "have to mod um so I guess we're not\n",
            "going to count of\n",
            "MN and of course you know you have to\n",
            "memorize because this branches out twice\n",
            "every time so that's going to be way sad\n",
            "and it gets you know let me double check\n",
            "this real quick I did I miss read this\n",
            "why why is this so\n",
            "long\n",
            "uh\n",
            "oh uh the corner is M uh m minus1 n\n",
            "minus one\n",
            "okay\n",
            "oops all right there you go so that\n",
            "looks good now we should do the caching\n",
            "um you know X goes to 0 to nus1 Y goes\n",
            "to - one so let's do that right so has\n",
            "cash\n",
            "right\n",
            "kind of standard stuff\n",
            "so yeah\n",
            "oops and that's pretty much it I think\n",
            "let's give a\n",
            "submit uh wow solved this I don't\n",
            "know fin I've solved this problem six\n",
            "times which is a\n",
            "lot so you is for me it's doing more\n",
            "standard than usual so hopefully\n",
            "you you enjoyed today's video I don't\n",
            "have a quick update just kind of tired\n",
            "just woke up um don't have any\n",
            "updates uh yeah and I guess if you're\n",
            "struggling you look at one of the others\n",
            "five videos uh that's all I have for\n",
            "today have a great Labor Day weekend the\n",
            "rest of your uh if well you celebrate it\n",
            "or you celebrate with labor I don't know\n",
            "that's all I have for now uh stay good\n",
            "stay healthy to good mental health I'll\n",
            "see yall later and take care bye-bye\n"
          ]
        }
      ]
    },
    {
      "cell_type": "code",
      "source": [
        "!pip install -q IPython"
      ],
      "metadata": {
        "colab": {
          "base_uri": "https://localhost:8080/"
        },
        "id": "Drcz-KbmrdxJ",
        "outputId": "f534aa8c-381b-4eea-81d0-e49a196ff68c"
      },
      "execution_count": 33,
      "outputs": [
        {
          "output_type": "stream",
          "name": "stdout",
          "text": [
            "\u001b[?25l     \u001b[90m━━━━━━━━━━━━━━━━━━━━━━━━━━━━━━━━━━━━━━━━\u001b[0m \u001b[32m0.0/1.6 MB\u001b[0m \u001b[31m?\u001b[0m eta \u001b[36m-:--:--\u001b[0m\r\u001b[2K     \u001b[91m━\u001b[0m\u001b[91m╸\u001b[0m\u001b[90m━━━━━━━━━━━━━━━━━━━━━━━━━━━━━━━━━━━━━━\u001b[0m \u001b[32m0.1/1.6 MB\u001b[0m \u001b[31m2.1 MB/s\u001b[0m eta \u001b[36m0:00:01\u001b[0m\r\u001b[2K     \u001b[91m━━━━━━━━━━━━━━━\u001b[0m\u001b[90m╺\u001b[0m\u001b[90m━━━━━━━━━━━━━━━━━━━━━━━━\u001b[0m \u001b[32m0.6/1.6 MB\u001b[0m \u001b[31m8.8 MB/s\u001b[0m eta \u001b[36m0:00:01\u001b[0m\r\u001b[2K     \u001b[91m━━━━━━━━━━━━━━━━━━━━━━━━━━━━━━━━\u001b[0m\u001b[90m╺\u001b[0m\u001b[90m━━━━━━━\u001b[0m \u001b[32m1.3/1.6 MB\u001b[0m \u001b[31m12.0 MB/s\u001b[0m eta \u001b[36m0:00:01\u001b[0m\r\u001b[2K     \u001b[90m━━━━━━━━━━━━━━━━━━━━━━━━━━━━━━━━━━━━━━━━\u001b[0m \u001b[32m1.6/1.6 MB\u001b[0m \u001b[31m11.5 MB/s\u001b[0m eta \u001b[36m0:00:00\u001b[0m\n",
            "\u001b[?25h"
          ]
        }
      ]
    },
    {
      "cell_type": "code",
      "source": [
        "from IPython.display import YouTubeVideo\n",
        "YouTubeVideo(video_id)"
      ],
      "metadata": {
        "colab": {
          "base_uri": "https://localhost:8080/",
          "height": 321
        },
        "id": "lSrPJMhQrV4J",
        "outputId": "30575d51-a5fe-4ddf-f1e0-40a6e4e622c6"
      },
      "execution_count": 36,
      "outputs": [
        {
          "output_type": "execute_result",
          "data": {
            "text/plain": [
              "<IPython.lib.display.YouTubeVideo at 0x7eafd08fb040>"
            ],
            "text/html": [
              "\n",
              "        <iframe\n",
              "            width=\"400\"\n",
              "            height=\"300\"\n",
              "            src=\"https://www.youtube.com/embed/CaEHViJgYbc\"\n",
              "            frameborder=\"0\"\n",
              "            allowfullscreen\n",
              "            \n",
              "        ></iframe>\n",
              "        "
            ],
            "image/jpeg": "[encoded data removed]"
          },
          "metadata": {},
          "execution_count": 36
        }
      ]
    },
    {
      "cell_type": "code",
      "source": [
        "# String containing the content to be written to the file\n",
        "\n",
        "\n",
        "# Specify the file path where you want to write the content\n",
        "file_path = \"output.txt\"\n",
        "\n",
        "# Open the file for writing\n",
        "try:\n",
        "    with open(file_path, 'w') as file:\n",
        "        # Write the content to the file\n",
        "        file.write(subtitles)\n",
        "    print(f\"Content has been written to '{file_path}'.\")\n",
        "\n",
        "except Exception as e:\n",
        "    print(f\"An error occurred: {str(e)}\")\n"
      ],
      "metadata": {
        "colab": {
          "base_uri": "https://localhost:8080/"
        },
        "id": "P6vGbUQetsh7",
        "outputId": "90dd69e6-a54a-4a4f-d412-19af2e61a291"
      },
      "execution_count": 43,
      "outputs": [
        {
          "output_type": "stream",
          "name": "stdout",
          "text": [
            "Content has been written to 'output.txt'.\n"
          ]
        }
      ]
    },
    {
      "cell_type": "code",
      "source": [
        "summarizer=pipeline(\"summarization\",model=\"facebook/bart-large-cnn\")"
      ],
      "metadata": {
        "colab": {
          "base_uri": "https://localhost:8080/",
          "height": 209,
          "referenced_widgets": [
            "8df6dc9a4bb946bcbfb90120cbe47121",
            "213beefe85404a3c84b4716b8e60dc9c",
            "d5af61db0ae74005a4b2b1166ef37f7f",
            "6d4a3db56c7f48c7ba77bbe2ab1a3dfd",
            "5cc4618bc49e4d429157fb3ec9971fa2",
            "7bc9c42469344703a408d39e889f7931",
            "2068e105cde34f738101b56f043cf17d",
            "c25f8f5b534b45f08debe4052a05cb6a",
            "bc5bc58d5917440e8965d814a3e6c285",
            "e68b8474c9904529ac58c49eb1958987",
            "15258857119b46bc8c8f58d93514f645",
            "068f9fa3b2eb421085d52df1accda787",
            "91188feaebf945fa82701a448fddc75a",
            "3ed92329d7544d9688afbf9bccc938dd",
            "67ed2403340b4b00b59db0b5c0c59fd8",
            "8e08b9af83ff4716ad1a2ee0e7bec8de",
            "7179bbcbf6054c7485a166a427a32a88",
            "1de092b6f4774c5d8d736012a228de11",
            "0dcf980e371c40e89f9ba53bb3997ca5",
            "7e1a6384ed8d4729b38d450413b7aa45",
            "5a9614311c9b43e7aa070a60250dfbba",
            "d9f6eac40f444553bdf0c06382275770",
            "5c40240aafb94cf9a5f75dd9f1f382ba",
            "5eefa44d178d445086364f5cc53fa323",
            "71366d40bfb74156832f4dde9ee5263b",
            "8054258034f0468ba9081596424c88ee",
            "eb9c70046343425985c154de75f48426",
            "1e38f8b89e5a4730be1997ead1d2bd64",
            "06883830b861400da3de1962504be2d3",
            "f4a271c590ac4574a6814ccbcb35b99b",
            "cdc9060e6c9c4816b541d251b666cdfd",
            "f40eb7bdcb82425290616620c8512981",
            "841eef02c2ab4c04a1b9d6c153fbaf95",
            "11de9f9362ef443ba3244321f564e09c",
            "39381560eebe428d976d42eb1a12aa35",
            "f0835bf5b91849d78dd89f6c960420ed",
            "94f1449bd4e642b5afdcdc2278cd4446",
            "987e6a28f28343eab4f11f8ad8a43a50",
            "f5a56e5078d34592af71bd683973a1ed",
            "e3c498ac376f45a7ba3ea1037fde493e",
            "91ac216cc65a4ddfaaf52b57650ccc11",
            "8b798f81f9e64c23ae64760fee687bfb",
            "8d394ac531354bb9a25bde0e915c076b",
            "12eba39a45334c5391eb8b88d1284c36",
            "f084cfd553604d8eb8780aed482a1877",
            "8e9139dd6a104f35a13269ab06f139f6",
            "ea0408ee748f4507a517853e24d66288",
            "98c8ec155b5b46398d69a212cf39c9dc",
            "0191271fb8334789ba83d0952b354b80",
            "12fc1d31d4964fbf903621290abc45ff",
            "06afdc5216a44d369a117aa69e590820",
            "7b0b62415a194d218662a2997609f3da",
            "b6fa565f30184337bb20d42adc609f64",
            "cdb5977da374485aa05e4723b2113cb5",
            "437fcbb33c4b43629064bea1583a0d85",
            "5b9944d4a06f4cc1be54cd194f6fb930",
            "3288d2c82a084bb59cadc253e4effd90",
            "a77eda29bcd745bea152e27702acaa46",
            "aca334cfaae54d359be9f9bb22f130b7",
            "fea9698d63ff4e4daece5cdfe7d3dea4",
            "066b73d8475e49e4bcabcf0271bbd9b3",
            "54e7c92010a744e2b9142aa44482c485",
            "ede7ecc1414d4aed99ca34a1bb579d2e",
            "db03c958ddb3480d8d1e0e4e1370f70a",
            "ad05d90ea1a14132854e32e731c627a4",
            "180ed44022fe4c70aaa4f71d41c3184e"
          ]
        },
        "id": "tRUp5GBtuQR5",
        "outputId": "1e2a60d5-c7d1-441a-e4aa-bc0d803ccb1b"
      },
      "execution_count": 44,
      "outputs": [
        {
          "output_type": "display_data",
          "data": {
            "text/plain": [
              "Downloading (…)lve/main/config.json:   0%|          | 0.00/1.58k [00:00<?, ?B/s]"
            ],
            "application/vnd.jupyter.widget-view+json": {
              "version_major": 2,
              "version_minor": 0,
              "model_id": "8df6dc9a4bb946bcbfb90120cbe47121"
            }
          },
          "metadata": {}
        },
        {
          "output_type": "display_data",
          "data": {
            "text/plain": [
              "Downloading pytorch_model.bin:   0%|          | 0.00/1.63G [00:00<?, ?B/s]"
            ],
            "application/vnd.jupyter.widget-view+json": {
              "version_major": 2,
              "version_minor": 0,
              "model_id": "068f9fa3b2eb421085d52df1accda787"
            }
          },
          "metadata": {}
        },
        {
          "output_type": "display_data",
          "data": {
            "text/plain": [
              "Downloading (…)neration_config.json:   0%|          | 0.00/363 [00:00<?, ?B/s]"
            ],
            "application/vnd.jupyter.widget-view+json": {
              "version_major": 2,
              "version_minor": 0,
              "model_id": "5c40240aafb94cf9a5f75dd9f1f382ba"
            }
          },
          "metadata": {}
        },
        {
          "output_type": "display_data",
          "data": {
            "text/plain": [
              "Downloading (…)olve/main/vocab.json:   0%|          | 0.00/899k [00:00<?, ?B/s]"
            ],
            "application/vnd.jupyter.widget-view+json": {
              "version_major": 2,
              "version_minor": 0,
              "model_id": "11de9f9362ef443ba3244321f564e09c"
            }
          },
          "metadata": {}
        },
        {
          "output_type": "display_data",
          "data": {
            "text/plain": [
              "Downloading (…)olve/main/merges.txt:   0%|          | 0.00/456k [00:00<?, ?B/s]"
            ],
            "application/vnd.jupyter.widget-view+json": {
              "version_major": 2,
              "version_minor": 0,
              "model_id": "f084cfd553604d8eb8780aed482a1877"
            }
          },
          "metadata": {}
        },
        {
          "output_type": "display_data",
          "data": {
            "text/plain": [
              "Downloading (…)/main/tokenizer.json:   0%|          | 0.00/1.36M [00:00<?, ?B/s]"
            ],
            "application/vnd.jupyter.widget-view+json": {
              "version_major": 2,
              "version_minor": 0,
              "model_id": "5b9944d4a06f4cc1be54cd194f6fb930"
            }
          },
          "metadata": {}
        }
      ]
    },
    {
      "cell_type": "code",
      "source": [
        "output=summarizer(subtitles,max_length=500,min_length=100,do_sample=False)\n",
        "print(output[0][\"summary_text\"])"
      ],
      "metadata": {
        "colab": {
          "base_uri": "https://localhost:8080/"
        },
        "id": "V16sTCmBvE9p",
        "outputId": "e89b5a7e-cdb5-4638-d9d6-b6fd9c43a94b"
      },
      "execution_count": 45,
      "outputs": [
        {
          "output_type": "stream",
          "name": "stdout",
          "text": [
            "Larry: Today's f is 62 unique paths. Larry: I've solved this problem six times which is a lot. I don't have a quick update just kind of tired just woke up. I guess if you're struggling you look at one of the others five videos. Have a great Labor Day weekend the rest of your uh if well you celebrate it or you celebrate with labor. I'll see yall later and take care bye-bye.  Larry:  I'm a little bit late on this one I totally just almost forgot.\n"
          ]
        }
      ]
    },
    {
      "cell_type": "code",
      "source": [
        "num_iters = int(len(subtitles)/1000)\n",
        "summarized_text = []\n",
        "for i in range(0, num_iters + 1):\n",
        "  start = 0\n",
        "  start = i * 1000\n",
        "  end = (i + 1) * 1000\n",
        "  print(\"input text \\n\" + subtitles[start:end])\n",
        "  out = summarizer(subtitles[start:end])\n",
        " #out = out[0]\n",
        "  out = out[0]['summary_text']\n",
        "  print(\"Summarized text\\n\"+out)\n",
        "  summarized_text.append(out)\n",
        "\n",
        "#print(summarized_text)"
      ],
      "metadata": {
        "colab": {
          "base_uri": "https://localhost:8080/"
        },
        "id": "kcyzGqdczhj_",
        "outputId": "47057062-2622-4c9c-fff1-ddcb993ebf38"
      },
      "execution_count": 47,
      "outputs": [
        {
          "output_type": "stream",
          "name": "stdout",
          "text": [
            "input text \n",
            " hey hey everybody this is Larry this is day three of the September Leal day challenge hit the like button hit the Subscribe but join me on Discord let me know what you think about today's Farm I not going to lie I I um I'm a little bit late on this one I totally just almost forgot because uh I was focused on the contest yesterday and then I got still kind of struggled on the contest anyway so that Focus was not helped anyway today's f is 62 unique paths uh okay so let's take a look all right so yeah I mean this is pretty standard there are two ways two main ways to do it um you know one is just knowing the math and knowing this problem this is a almost to standard e so this is going to be like uh binomial distribution type thing or bin bomal binomial something basically the formula for binomial uh like uh what it given M and N is probably going to be like m+ n minus one choose M or something like this uh that's just off my head I I probably have to think about it a little bit get it p\n",
            "Summarized text\n",
            "Larry: I'm a little bit late on this one I totally just almost forgot because uh I was focused on the contest yesterday and then I got still kind of struggled with the contest anyway so that Focus was not helped anyway today's f is 62 unique paths uh okay so let's take a look all right so yeah I mean this is pretty standard there are two ways two main ways to do it.\n",
            "input text \n",
            "recise uh we can also practice dynamic programming of course uh but I mean both of them is kind of the same idea right and for bomal um you know you can think about as the Pascal triangle and the Pascal triangle uh and for the Pascal triangle uh yeah it is just basically the form I mean you can you can think of it both ways but as the Pascal triangle and what I mean by that is that um if you know the Pascal triangle you just know the formula but it probably is more accurate to say is the other way around and what I mean by that is that you notice the formula and like oh this formula is clearly just uh Pascal triangle and what I mean by that is that for every cell uh oh there only 100 we could calculate this right so maybe we have a count we have an X and we have a y and then for it um and we'll count backwards so if x so let's say total number of paths is equal z um let's just say if x is equal 0 and Y is equal 0 we return one way you that means that you're done uh total is equal Z and\n",
            "Summarized text\n",
            "For every cell we have an X and we have a y and then for it um and we'll count backwards so if x so let's say total number of paths is equal z. recise uh we can also practice dynamic programming of course uh but I mean both of them is kind of the same idea right.\n",
            "input text \n",
            " then if x is greater than zero then you go oh X is so then you go up so then we add it to count x -1 Y and then if Y is greater than zero you know you go to the left uh or you go from the left I guess maybe that's better way I'm saying it so then here and that's pretty much it and here it said that you don't have to mod um so I guess we're not going to count of MN and of course you know you have to memorize because this branches out twice every time so that's going to be way sad and it gets you know let me double check this real quick I did I miss read this why why is this so long uh oh uh the corner is M uh m minus1 n minus one okay oops all right there you go so that looks good now we should do the caching um you know X goes to 0 to nus1 Y goes to - one so let's do that right so has cash right kind of standard stuff so yeah oops and that's pretty much it I think let's give a submit uh wow solved this I don't know fin I've solved this problem six times which is a lot so you is for me\n"
          ]
        },
        {
          "output_type": "stream",
          "name": "stderr",
          "text": [
            "Your max_length is set to 142, but your input_length is only 117. Since this is a summarization task, where outputs shorter than the input are typically wanted, you might consider decreasing max_length manually, e.g. summarizer('...', max_length=58)\n"
          ]
        },
        {
          "output_type": "stream",
          "name": "stdout",
          "text": [
            "Summarized text\n",
            "\"I've solved this problem six times which is a lot so you is for me\" \"You have to memorize because this branches out twice every time so that's going to be way sad and it gets\" \"The corner is M uh m minus1 n minus one okay oops all right there you go so that looks good\"\n",
            "input text \n",
            " it's doing more standard than usual so hopefully you you enjoyed today's video I don't have a quick update just kind of tired just woke up um don't have any updates uh yeah and I guess if you're struggling you look at one of the others five videos uh that's all I have for today have a great Labor Day weekend the rest of your uh if well you celebrate it or you celebrate with labor I don't know that's all I have for now uh stay good stay healthy to good mental health I'll see yall later and take care bye-bye\n",
            "Summarized text\n",
            "\"I don't have a quick update just kind of tired just woke up\" \"I guess if you're struggling you look at one of the others five videos\" \"Have a great Labor Day weekend the rest of your uh if well you celebrate it or you celebrate with labor\"\n"
          ]
        }
      ]
    },
    {
      "cell_type": "code",
      "source": [
        "print(len(str(summarized_text)))"
      ],
      "metadata": {
        "colab": {
          "base_uri": "https://localhost:8080/"
        },
        "id": "ihJ9sA0P0KQ1",
        "outputId": "c0af7bf5-1b68-44cb-b5ca-b844759fb88f"
      },
      "execution_count": 49,
      "outputs": [
        {
          "output_type": "stream",
          "name": "stdout",
          "text": [
            "1161\n"
          ]
        }
      ]
    },
    {
      "cell_type": "code",
      "source": [
        "str(summarized_text)"
      ],
      "metadata": {
        "colab": {
          "base_uri": "https://localhost:8080/",
          "height": 174
        },
        "id": "nh8TQiOA0ybS",
        "outputId": "20534082-f92b-4399-bd06-de0bff00eddf"
      },
      "execution_count": 50,
      "outputs": [
        {
          "output_type": "execute_result",
          "data": {
            "text/plain": [
              "'[\"Larry: I\\'m a little bit late on this one I totally just almost forgot because uh I was focused on the contest yesterday and then I got still kind of struggled with the contest anyway so that Focus was not helped anyway today\\'s f is 62 unique paths uh okay so let\\'s take a look all right so yeah I mean this is pretty standard there are two ways two main ways to do it.\", \"For every cell we have an X and we have a y and then for it um and we\\'ll count backwards so if x so let\\'s say total number of paths is equal z. recise uh we can also practice dynamic programming of course uh but I mean both of them is kind of the same idea right.\", \\'\"I\\\\\\'ve solved this problem six times which is a lot so you is for me\" \"You have to memorize because this branches out twice every time so that\\\\\\'s going to be way sad and it gets\" \"The corner is M uh m minus1 n minus one okay oops all right there you go so that looks good\"\\', \\'\"I don\\\\\\'t have a quick update just kind of tired just woke up\" \"I guess if you\\\\\\'re struggling you look at one of the others five videos\" \"Have a great Labor Day weekend the rest of your uh if well you celebrate it or you celebrate with labor\"\\']'"
            ],
            "application/vnd.google.colaboratory.intrinsic+json": {
              "type": "string"
            }
          },
          "metadata": {},
          "execution_count": 50
        }
      ]
    }
  ]
}