{
  "nbformat": 4,
  "nbformat_minor": 0,
  "metadata": {
    "colab": {
      "provenance": [],
      "gpuType": "T4",
      "authorship_tag": "ABX9TyMyCM+8trfM/6thHSNuURWN",
      "include_colab_link": true
    },
    "kernelspec": {
      "name": "python3",
      "display_name": "Python 3"
    },
    "language_info": {
      "name": "python"
    },
    "accelerator": "GPU"
  },
  "cells": [
    {
      "cell_type": "markdown",
      "metadata": {
        "id": "view-in-github",
        "colab_type": "text"
      },
      "source": [
        "<a href=\"https://colab.research.google.com/github/aneeshd27/Universal-Subtitle-Companion/blob/main/Assembly_API_for_Speech_to_Text.ipynb\" target=\"_parent\"><img src=\"https://colab.research.google.com/assets/colab-badge.svg\" alt=\"Open In Colab\"/></a>"
      ]
    },
    {
      "cell_type": "markdown",
      "source": [
        "#AssemblyAI API"
      ],
      "metadata": {
        "id": "sk8OKYVz72tA"
      }
    },
    {
      "cell_type": "code",
      "execution_count": 1,
      "metadata": {
        "colab": {
          "base_uri": "https://localhost:8080/"
        },
        "id": "6-zX4aov6Pe6",
        "outputId": "6992a8c0-98b2-4ac6-f4f3-a3c33730fd18"
      },
      "outputs": [
        {
          "output_type": "stream",
          "name": "stdout",
          "text": [
            "\u001b[?25l     \u001b[90m━━━━━━━━━━━━━━━━━━━━━━━━━━━━━━━━━━━━━━━━\u001b[0m \u001b[32m0.0/65.7 kB\u001b[0m \u001b[31m?\u001b[0m eta \u001b[36m-:--:--\u001b[0m\r\u001b[2K     \u001b[90m━━━━━━━━━━━━━━━━━━━━━━━━━━━━━━━━━━━━━━━━\u001b[0m \u001b[32m65.7/65.7 kB\u001b[0m \u001b[31m1.9 MB/s\u001b[0m eta \u001b[36m0:00:00\u001b[0m\n",
            "\u001b[2K     \u001b[90m━━━━━━━━━━━━━━━━━━━━━━━━━━━━━━━━━━━━━━━━\u001b[0m \u001b[32m75.7/75.7 kB\u001b[0m \u001b[31m5.4 MB/s\u001b[0m eta \u001b[36m0:00:00\u001b[0m\n",
            "\u001b[2K     \u001b[90m━━━━━━━━━━━━━━━━━━━━━━━━━━━━━━━━━━━━━━━━\u001b[0m \u001b[32m130.2/130.2 kB\u001b[0m \u001b[31m10.7 MB/s\u001b[0m eta \u001b[36m0:00:00\u001b[0m\n",
            "\u001b[2K     \u001b[90m━━━━━━━━━━━━━━━━━━━━━━━━━━━━━━━━━━━━━━━━\u001b[0m \u001b[32m76.0/76.0 kB\u001b[0m \u001b[31m7.1 MB/s\u001b[0m eta \u001b[36m0:00:00\u001b[0m\n",
            "\u001b[2K     \u001b[90m━━━━━━━━━━━━━━━━━━━━━━━━━━━━━━━━━━━━━━━━\u001b[0m \u001b[32m58.3/58.3 kB\u001b[0m \u001b[31m7.3 MB/s\u001b[0m eta \u001b[36m0:00:00\u001b[0m\n",
            "\u001b[?25h"
          ]
        }
      ],
      "source": [
        "!pip install -q assemblyai"
      ]
    },
    {
      "cell_type": "code",
      "source": [
        "import assemblyai as aai\n",
        "aai.settings.api_key = f\"3c96097bf13f4851abe7909c96439153\"\n",
        "FILE_URL=\"/content/download (1).mp4\"\n",
        "transcriber = aai.Transcriber()\n",
        "transcript = transcriber.transcribe(FILE_URL)\n",
        "\n",
        "print(transcript.text)\n"
      ],
      "metadata": {
        "colab": {
          "base_uri": "https://localhost:8080/"
        },
        "id": "JqyKG_XM6lVe",
        "outputId": "1ff256c5-bce6-4f03-dd1f-7f94ed42e742"
      },
      "execution_count": 2,
      "outputs": [
        {
          "output_type": "stream",
          "name": "stdout",
          "text": [
            "Who are you talking to right now? Who is it you think you see? Do you know how much I make a year? I mean, even if I told you, you wouldn't believe it. Do you know what would happen if I suddenly decided to stop going into work? A business big enough that it could be listed on the Nasdaq goes belly up, disappears. It's ceased to exist without me. No, you clearly don't know who you're talking to, so let me clue you in. I am not in danger, Skyler. I am the danger.\n"
          ]
        }
      ]
    },
    {
      "cell_type": "code",
      "source": [
        "print(transcript.export_subtitles_srt())"
      ],
      "metadata": {
        "colab": {
          "base_uri": "https://localhost:8080/"
        },
        "id": "XfqtmNx77bbI",
        "outputId": "99370621-dead-44e3-b958-157c91307bcc"
      },
      "execution_count": 3,
      "outputs": [
        {
          "output_type": "stream",
          "name": "stdout",
          "text": [
            "1\n",
            "00:00:01,130 --> 00:00:03,040\n",
            "Who are you talking to right now?\n",
            "\n",
            "2\n",
            "00:00:05,690 --> 00:00:07,800\n",
            "Who is it you think you see?\n",
            "\n",
            "3\n",
            "00:00:10,330 --> 00:00:13,926\n",
            "Do you know how much I make a year? I mean, even if I\n",
            "\n",
            "4\n",
            "00:00:13,948 --> 00:00:17,366\n",
            "told you, you wouldn't believe it. Do you know what would happen if I\n",
            "\n",
            "5\n",
            "00:00:17,388 --> 00:00:21,286\n",
            "suddenly decided to stop going into work? A business big\n",
            "\n",
            "6\n",
            "00:00:21,308 --> 00:00:24,166\n",
            "enough that it could be listed on the Nasdaq goes belly up,\n",
            "\n",
            "7\n",
            "00:00:24,348 --> 00:00:27,934\n",
            "disappears. It's ceased to exist without me.\n",
            "\n",
            "8\n",
            "00:00:27,972 --> 00:00:31,438\n",
            "No, you clearly don't know who you're talking to, so let\n",
            "\n",
            "9\n",
            "00:00:31,444 --> 00:00:34,314\n",
            "me clue you in. I am not in danger,\n",
            "\n",
            "10\n",
            "00:00:34,362 --> 00:00:36,330\n",
            "Skyler. I am the danger.\n",
            "\n",
            "\n"
          ]
        }
      ]
    },
    {
      "cell_type": "markdown",
      "source": [
        "###Calculate no of speakers"
      ],
      "metadata": {
        "id": "GLLT1GC698zj"
      }
    },
    {
      "cell_type": "code",
      "source": [
        "config = aai.TranscriptionConfig(speaker_labels=True)\n",
        "\n",
        "transcriber = aai.Transcriber()\n",
        "transcript = transcriber.transcribe(\n",
        "  FILE_URL,\n",
        "  config=config\n",
        ")\n",
        "\n",
        "for utterance in transcript.utterances:\n",
        "  print(f\"Speaker {utterance.speaker}: {utterance.text}\")"
      ],
      "metadata": {
        "colab": {
          "base_uri": "https://localhost:8080/"
        },
        "id": "Fjf48YXV8iWX",
        "outputId": "e7cc7a11-e13f-4e57-ed48-ff374ce45811"
      },
      "execution_count": 4,
      "outputs": [
        {
          "output_type": "stream",
          "name": "stdout",
          "text": [
            "Speaker A: Who are you talking to right now? Who is it you think you see? Do you know how much I make a year? I mean, even if I told you, you wouldn't believe it. Do you know what would happen if I suddenly decided to stop going into work? A business big enough that it could be listed on the Nasdaq goes belly up, disappears. It's ceased to exist without me. No, you clearly don't know who you're talking to, so let me clue you in. I am not in danger, Skyler. I am the danger.\n"
          ]
        }
      ]
    },
    {
      "cell_type": "markdown",
      "source": [
        "###Summarization"
      ],
      "metadata": {
        "id": "ZWkVsS4u-BuA"
      }
    },
    {
      "cell_type": "code",
      "source": [
        "config = aai.TranscriptionConfig(\n",
        "  summarization=True,\n",
        "  summary_model=aai.SummarizationModel.informative, # optional\n",
        "  summary_type=aai.SummarizationType.bullets # optional\n",
        ")\n",
        "\n",
        "transcript = transcriber.transcribe(\"/content/download (1).mp4\")\n",
        "transcriber = aai.Transcriber(config=config)\n",
        "print(transcript.summary)\n",
        "#Summary of the subtitles of the mp4 that is generated.The summarization is Extractive."
      ],
      "metadata": {
        "colab": {
          "base_uri": "https://localhost:8080/"
        },
        "id": "xwZbwi_k8sK2",
        "outputId": "cf5ac660-8ecf-4d44-e802-fedb6d4d306f"
      },
      "execution_count": 6,
      "outputs": [
        {
          "output_type": "stream",
          "name": "stdout",
          "text": [
            "- Do you know how much I make a year? I mean, even if I told you, you wouldn't believe it. Do you know what would happen if I suddenly decided to stop going into work? A business big enough that could be listed on the Nasdaq goes belly up, disappears.\n"
          ]
        }
      ]
    }
  ]
}